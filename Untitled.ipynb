{
 "cells": [
  {
   "cell_type": "code",
   "execution_count": 1,
   "metadata": {
    "collapsed": true
   },
   "outputs": [],
   "source": [
    "import pandas as pd\n",
    "from nmf_model import NMFModel"
   ]
  },
  {
   "cell_type": "code",
   "execution_count": 2,
   "metadata": {
    "collapsed": true
   },
   "outputs": [],
   "source": [
    "train_data=pd.read_csv(\"../datasets/assignment/train_set.csv\")\n",
    "test_data=pd.read_csv(\"../datasets/assignment/test_set.csv\")"
   ]
  },
  {
   "cell_type": "code",
   "execution_count": 71,
   "metadata": {
    "collapsed": true
   },
   "outputs": [],
   "source": [
    "genre_data=pd.read_csv(\"../datasets/assignment/ml-20m/movies.csv\")"
   ]
  },
  {
   "cell_type": "code",
   "execution_count": 74,
   "metadata": {},
   "outputs": [
    {
     "data": {
      "text/plain": [
       "1342"
      ]
     },
     "execution_count": 74,
     "metadata": {},
     "output_type": "execute_result"
    }
   ],
   "source": [
    "len(genre_data.genres.unique())"
   ]
  },
  {
   "cell_type": "code",
   "execution_count": 79,
   "metadata": {
    "collapsed": true
   },
   "outputs": [],
   "source": [
    "def separate(x):\n",
    "    if x=='(no genres listed)':\n",
    "        return []\n",
    "    return x.split('|')"
   ]
  },
  {
   "cell_type": "code",
   "execution_count": 80,
   "metadata": {
    "collapsed": true
   },
   "outputs": [],
   "source": [
    "genre_data['sep_gen']=[separate(g) for g in genre_data['genres']]"
   ]
  },
  {
   "cell_type": "code",
   "execution_count": 81,
   "metadata": {
    "scrolled": true
   },
   "outputs": [
    {
     "data": {
      "text/html": [
       "<div>\n",
       "<style scoped>\n",
       "    .dataframe tbody tr th:only-of-type {\n",
       "        vertical-align: middle;\n",
       "    }\n",
       "\n",
       "    .dataframe tbody tr th {\n",
       "        vertical-align: top;\n",
       "    }\n",
       "\n",
       "    .dataframe thead th {\n",
       "        text-align: right;\n",
       "    }\n",
       "</style>\n",
       "<table border=\"1\" class=\"dataframe\">\n",
       "  <thead>\n",
       "    <tr style=\"text-align: right;\">\n",
       "      <th></th>\n",
       "      <th>movieId</th>\n",
       "      <th>title</th>\n",
       "      <th>genres</th>\n",
       "      <th>sep_gen</th>\n",
       "    </tr>\n",
       "  </thead>\n",
       "  <tbody>\n",
       "    <tr>\n",
       "      <th>0</th>\n",
       "      <td>1</td>\n",
       "      <td>Toy Story (1995)</td>\n",
       "      <td>Adventure|Animation|Children|Comedy|Fantasy</td>\n",
       "      <td>[Adventure, Animation, Children, Comedy, Fantasy]</td>\n",
       "    </tr>\n",
       "    <tr>\n",
       "      <th>1</th>\n",
       "      <td>2</td>\n",
       "      <td>Jumanji (1995)</td>\n",
       "      <td>Adventure|Children|Fantasy</td>\n",
       "      <td>[Adventure, Children, Fantasy]</td>\n",
       "    </tr>\n",
       "    <tr>\n",
       "      <th>2</th>\n",
       "      <td>3</td>\n",
       "      <td>Grumpier Old Men (1995)</td>\n",
       "      <td>Comedy|Romance</td>\n",
       "      <td>[Comedy, Romance]</td>\n",
       "    </tr>\n",
       "    <tr>\n",
       "      <th>3</th>\n",
       "      <td>4</td>\n",
       "      <td>Waiting to Exhale (1995)</td>\n",
       "      <td>Comedy|Drama|Romance</td>\n",
       "      <td>[Comedy, Drama, Romance]</td>\n",
       "    </tr>\n",
       "    <tr>\n",
       "      <th>4</th>\n",
       "      <td>5</td>\n",
       "      <td>Father of the Bride Part II (1995)</td>\n",
       "      <td>Comedy</td>\n",
       "      <td>[Comedy]</td>\n",
       "    </tr>\n",
       "    <tr>\n",
       "      <th>...</th>\n",
       "      <td>...</td>\n",
       "      <td>...</td>\n",
       "      <td>...</td>\n",
       "      <td>...</td>\n",
       "    </tr>\n",
       "    <tr>\n",
       "      <th>27273</th>\n",
       "      <td>131254</td>\n",
       "      <td>Kein Bund für's Leben (2007)</td>\n",
       "      <td>Comedy</td>\n",
       "      <td>[Comedy]</td>\n",
       "    </tr>\n",
       "    <tr>\n",
       "      <th>27274</th>\n",
       "      <td>131256</td>\n",
       "      <td>Feuer, Eis &amp; Dosenbier (2002)</td>\n",
       "      <td>Comedy</td>\n",
       "      <td>[Comedy]</td>\n",
       "    </tr>\n",
       "    <tr>\n",
       "      <th>27275</th>\n",
       "      <td>131258</td>\n",
       "      <td>The Pirates (2014)</td>\n",
       "      <td>Adventure</td>\n",
       "      <td>[Adventure]</td>\n",
       "    </tr>\n",
       "    <tr>\n",
       "      <th>27276</th>\n",
       "      <td>131260</td>\n",
       "      <td>Rentun Ruusu (2001)</td>\n",
       "      <td>(no genres listed)</td>\n",
       "      <td>[]</td>\n",
       "    </tr>\n",
       "    <tr>\n",
       "      <th>27277</th>\n",
       "      <td>131262</td>\n",
       "      <td>Innocence (2014)</td>\n",
       "      <td>Adventure|Fantasy|Horror</td>\n",
       "      <td>[Adventure, Fantasy, Horror]</td>\n",
       "    </tr>\n",
       "  </tbody>\n",
       "</table>\n",
       "<p>27278 rows × 4 columns</p>\n",
       "</div>"
      ],
      "text/plain": [
       "       movieId                               title  \\\n",
       "0            1                    Toy Story (1995)   \n",
       "1            2                      Jumanji (1995)   \n",
       "2            3             Grumpier Old Men (1995)   \n",
       "3            4            Waiting to Exhale (1995)   \n",
       "4            5  Father of the Bride Part II (1995)   \n",
       "...        ...                                 ...   \n",
       "27273   131254        Kein Bund für's Leben (2007)   \n",
       "27274   131256       Feuer, Eis & Dosenbier (2002)   \n",
       "27275   131258                  The Pirates (2014)   \n",
       "27276   131260                 Rentun Ruusu (2001)   \n",
       "27277   131262                    Innocence (2014)   \n",
       "\n",
       "                                            genres  \\\n",
       "0      Adventure|Animation|Children|Comedy|Fantasy   \n",
       "1                       Adventure|Children|Fantasy   \n",
       "2                                   Comedy|Romance   \n",
       "3                             Comedy|Drama|Romance   \n",
       "4                                           Comedy   \n",
       "...                                            ...   \n",
       "27273                                       Comedy   \n",
       "27274                                       Comedy   \n",
       "27275                                    Adventure   \n",
       "27276                           (no genres listed)   \n",
       "27277                     Adventure|Fantasy|Horror   \n",
       "\n",
       "                                                 sep_gen  \n",
       "0      [Adventure, Animation, Children, Comedy, Fantasy]  \n",
       "1                         [Adventure, Children, Fantasy]  \n",
       "2                                      [Comedy, Romance]  \n",
       "3                               [Comedy, Drama, Romance]  \n",
       "4                                               [Comedy]  \n",
       "...                                                  ...  \n",
       "27273                                           [Comedy]  \n",
       "27274                                           [Comedy]  \n",
       "27275                                        [Adventure]  \n",
       "27276                                                 []  \n",
       "27277                       [Adventure, Fantasy, Horror]  \n",
       "\n",
       "[27278 rows x 4 columns]"
      ]
     },
     "execution_count": 81,
     "metadata": {},
     "output_type": "execute_result"
    }
   ],
   "source": [
    "genre_data"
   ]
  },
  {
   "cell_type": "code",
   "execution_count": 93,
   "metadata": {
    "collapsed": true
   },
   "outputs": [],
   "source": [
    "def get_year(title):\n",
    "    l = title.rfind('(') + 1\n",
    "    try:\n",
    "        return int(title[l:l+4])\n",
    "    except ValueError:\n",
    "        print(title, end='\\t')\n",
    "        return 0"
   ]
  },
  {
   "cell_type": "code",
   "execution_count": 94,
   "metadata": {},
   "outputs": [
    {
     "name": "stdout",
     "output_type": "stream",
     "text": [
      "Babylon 5\tMillions Game, The (Das Millionenspiel)\tBicycle, Spoon, Apple (Bicicleta, cullera, poma)\tBrazil: In the Shadow of the Stadiums\tSlaying the Badger\tTatort: Im Schmerz geboren\tNational Theatre Live: Frankenstein\tThe Court-Martial of Jackie Robinson\tIn Our Garden\tStephen Fry In America - New World\tTwo: The Story of Roman & Nyro\tLi'l Quinquin\tA Year Along the Abandoned Road\tBody/Cialo\tPolskie gówno\tThe Third Reich: The Rise & Fall\tMy Own Man\tMoving Alan\tMichael Laudrup - en Fodboldspiller\t"
     ]
    }
   ],
   "source": [
    "genre_data['year']=genre_data['title'].map(get_year)"
   ]
  },
  {
   "cell_type": "code",
   "execution_count": 95,
   "metadata": {
    "scrolled": true
   },
   "outputs": [
    {
     "data": {
      "text/html": [
       "<div>\n",
       "<style scoped>\n",
       "    .dataframe tbody tr th:only-of-type {\n",
       "        vertical-align: middle;\n",
       "    }\n",
       "\n",
       "    .dataframe tbody tr th {\n",
       "        vertical-align: top;\n",
       "    }\n",
       "\n",
       "    .dataframe thead th {\n",
       "        text-align: right;\n",
       "    }\n",
       "</style>\n",
       "<table border=\"1\" class=\"dataframe\">\n",
       "  <thead>\n",
       "    <tr style=\"text-align: right;\">\n",
       "      <th></th>\n",
       "      <th>movieId</th>\n",
       "      <th>title</th>\n",
       "      <th>genres</th>\n",
       "      <th>sep_gen</th>\n",
       "      <th>year</th>\n",
       "    </tr>\n",
       "  </thead>\n",
       "  <tbody>\n",
       "    <tr>\n",
       "      <th>0</th>\n",
       "      <td>1</td>\n",
       "      <td>Toy Story (1995)</td>\n",
       "      <td>Adventure|Animation|Children|Comedy|Fantasy</td>\n",
       "      <td>[Adventure, Animation, Children, Comedy, Fantasy]</td>\n",
       "      <td>1995</td>\n",
       "    </tr>\n",
       "    <tr>\n",
       "      <th>1</th>\n",
       "      <td>2</td>\n",
       "      <td>Jumanji (1995)</td>\n",
       "      <td>Adventure|Children|Fantasy</td>\n",
       "      <td>[Adventure, Children, Fantasy]</td>\n",
       "      <td>1995</td>\n",
       "    </tr>\n",
       "    <tr>\n",
       "      <th>2</th>\n",
       "      <td>3</td>\n",
       "      <td>Grumpier Old Men (1995)</td>\n",
       "      <td>Comedy|Romance</td>\n",
       "      <td>[Comedy, Romance]</td>\n",
       "      <td>1995</td>\n",
       "    </tr>\n",
       "    <tr>\n",
       "      <th>3</th>\n",
       "      <td>4</td>\n",
       "      <td>Waiting to Exhale (1995)</td>\n",
       "      <td>Comedy|Drama|Romance</td>\n",
       "      <td>[Comedy, Drama, Romance]</td>\n",
       "      <td>1995</td>\n",
       "    </tr>\n",
       "    <tr>\n",
       "      <th>4</th>\n",
       "      <td>5</td>\n",
       "      <td>Father of the Bride Part II (1995)</td>\n",
       "      <td>Comedy</td>\n",
       "      <td>[Comedy]</td>\n",
       "      <td>1995</td>\n",
       "    </tr>\n",
       "    <tr>\n",
       "      <th>...</th>\n",
       "      <td>...</td>\n",
       "      <td>...</td>\n",
       "      <td>...</td>\n",
       "      <td>...</td>\n",
       "      <td>...</td>\n",
       "    </tr>\n",
       "    <tr>\n",
       "      <th>27273</th>\n",
       "      <td>131254</td>\n",
       "      <td>Kein Bund für's Leben (2007)</td>\n",
       "      <td>Comedy</td>\n",
       "      <td>[Comedy]</td>\n",
       "      <td>2007</td>\n",
       "    </tr>\n",
       "    <tr>\n",
       "      <th>27274</th>\n",
       "      <td>131256</td>\n",
       "      <td>Feuer, Eis &amp; Dosenbier (2002)</td>\n",
       "      <td>Comedy</td>\n",
       "      <td>[Comedy]</td>\n",
       "      <td>2002</td>\n",
       "    </tr>\n",
       "    <tr>\n",
       "      <th>27275</th>\n",
       "      <td>131258</td>\n",
       "      <td>The Pirates (2014)</td>\n",
       "      <td>Adventure</td>\n",
       "      <td>[Adventure]</td>\n",
       "      <td>2014</td>\n",
       "    </tr>\n",
       "    <tr>\n",
       "      <th>27276</th>\n",
       "      <td>131260</td>\n",
       "      <td>Rentun Ruusu (2001)</td>\n",
       "      <td>(no genres listed)</td>\n",
       "      <td>[]</td>\n",
       "      <td>2001</td>\n",
       "    </tr>\n",
       "    <tr>\n",
       "      <th>27277</th>\n",
       "      <td>131262</td>\n",
       "      <td>Innocence (2014)</td>\n",
       "      <td>Adventure|Fantasy|Horror</td>\n",
       "      <td>[Adventure, Fantasy, Horror]</td>\n",
       "      <td>2014</td>\n",
       "    </tr>\n",
       "  </tbody>\n",
       "</table>\n",
       "<p>27278 rows × 5 columns</p>\n",
       "</div>"
      ],
      "text/plain": [
       "       movieId                               title  \\\n",
       "0            1                    Toy Story (1995)   \n",
       "1            2                      Jumanji (1995)   \n",
       "2            3             Grumpier Old Men (1995)   \n",
       "3            4            Waiting to Exhale (1995)   \n",
       "4            5  Father of the Bride Part II (1995)   \n",
       "...        ...                                 ...   \n",
       "27273   131254        Kein Bund für's Leben (2007)   \n",
       "27274   131256       Feuer, Eis & Dosenbier (2002)   \n",
       "27275   131258                  The Pirates (2014)   \n",
       "27276   131260                 Rentun Ruusu (2001)   \n",
       "27277   131262                    Innocence (2014)   \n",
       "\n",
       "                                            genres  \\\n",
       "0      Adventure|Animation|Children|Comedy|Fantasy   \n",
       "1                       Adventure|Children|Fantasy   \n",
       "2                                   Comedy|Romance   \n",
       "3                             Comedy|Drama|Romance   \n",
       "4                                           Comedy   \n",
       "...                                            ...   \n",
       "27273                                       Comedy   \n",
       "27274                                       Comedy   \n",
       "27275                                    Adventure   \n",
       "27276                           (no genres listed)   \n",
       "27277                     Adventure|Fantasy|Horror   \n",
       "\n",
       "                                                 sep_gen  year  \n",
       "0      [Adventure, Animation, Children, Comedy, Fantasy]  1995  \n",
       "1                         [Adventure, Children, Fantasy]  1995  \n",
       "2                                      [Comedy, Romance]  1995  \n",
       "3                               [Comedy, Drama, Romance]  1995  \n",
       "4                                               [Comedy]  1995  \n",
       "...                                                  ...   ...  \n",
       "27273                                           [Comedy]  2007  \n",
       "27274                                           [Comedy]  2002  \n",
       "27275                                        [Adventure]  2014  \n",
       "27276                                                 []  2001  \n",
       "27277                       [Adventure, Fantasy, Horror]  2014  \n",
       "\n",
       "[27278 rows x 5 columns]"
      ]
     },
     "execution_count": 95,
     "metadata": {},
     "output_type": "execute_result"
    }
   ],
   "source": [
    "genre_data"
   ]
  },
  {
   "cell_type": "code",
   "execution_count": 99,
   "metadata": {
    "collapsed": true
   },
   "outputs": [],
   "source": [
    "def get_genre_onehot(indexer, x):\n",
    "    onehot=[0]*len(indexer)\n",
    "    for i, g in enumerate(indexer):\n",
    "        if g in x:\n",
    "            onehot[i]=1\n",
    "    return onehot"
   ]
  },
  {
   "cell_type": "code",
   "execution_count": 100,
   "metadata": {
    "collapsed": true
   },
   "outputs": [],
   "source": [
    "genre_data['genre_vector']=[get_genre_onehot(genre, g) for g in genre_data['sep_gen']]"
   ]
  },
  {
   "cell_type": "code",
   "execution_count": 324,
   "metadata": {
    "collapsed": true
   },
   "outputs": [],
   "source": [
    "def get_genre_val(indexer, x):\n",
    "    val_list=[]\n",
    "    for i, g in enumerate(indexer):\n",
    "        if g in x:\n",
    "            val_list.append(i+1)\n",
    "    if len(val_list)==0:\n",
    "        return [0]\n",
    "    else:\n",
    "        return val_list\n"
   ]
  },
  {
   "cell_type": "code",
   "execution_count": 325,
   "metadata": {
    "collapsed": true
   },
   "outputs": [],
   "source": [
    "test_list=[]\n",
    "for g in genre_data['sep_gen']:\n",
    "    test_list.append(get_genre_val(genre, g))\n",
    "    "
   ]
  },
  {
   "cell_type": "code",
   "execution_count": 323,
   "metadata": {},
   "outputs": [
    {
     "data": {
      "text/plain": [
       "array([list([0, 2, 3, 7, 9]), list([0, 7, 9]), list([2, 13]), ...,\n",
       "       list([7]), list([20]), list([0, 7, 15])], dtype=object)"
      ]
     },
     "execution_count": 323,
     "metadata": {},
     "output_type": "execute_result"
    }
   ],
   "source": [
    "np.asarray(test_list)"
   ]
  },
  {
   "cell_type": "code",
   "execution_count": 326,
   "metadata": {
    "collapsed": true
   },
   "outputs": [],
   "source": [
    "genre_data['gen_value_list']=[get_genre_val(genre, g) for g in genre_data['sep_gen']]"
   ]
  },
  {
   "cell_type": "code",
   "execution_count": 327,
   "metadata": {
    "scrolled": true
   },
   "outputs": [
    {
     "data": {
      "text/html": [
       "<div>\n",
       "<style scoped>\n",
       "    .dataframe tbody tr th:only-of-type {\n",
       "        vertical-align: middle;\n",
       "    }\n",
       "\n",
       "    .dataframe tbody tr th {\n",
       "        vertical-align: top;\n",
       "    }\n",
       "\n",
       "    .dataframe thead th {\n",
       "        text-align: right;\n",
       "    }\n",
       "</style>\n",
       "<table border=\"1\" class=\"dataframe\">\n",
       "  <thead>\n",
       "    <tr style=\"text-align: right;\">\n",
       "      <th></th>\n",
       "      <th>movieId</th>\n",
       "      <th>title</th>\n",
       "      <th>genres</th>\n",
       "      <th>sep_gen</th>\n",
       "      <th>year</th>\n",
       "      <th>genre_vector</th>\n",
       "      <th>vector_all</th>\n",
       "      <th>gen_value_list</th>\n",
       "    </tr>\n",
       "  </thead>\n",
       "  <tbody>\n",
       "    <tr>\n",
       "      <th>0</th>\n",
       "      <td>1</td>\n",
       "      <td>Toy Story (1995)</td>\n",
       "      <td>Adventure|Animation|Children|Comedy|Fantasy</td>\n",
       "      <td>[Adventure, Animation, Children, Comedy, Fantasy]</td>\n",
       "      <td>1995</td>\n",
       "      <td>[1, 0, 1, 1, 0, 0, 0, 1, 0, 1, 0, 0, 0, 0, 0, ...</td>\n",
       "      <td>[1995, 1, 0, 1, 1, 0, 0, 0, 1, 0, 1, 0, 0, 0, ...</td>\n",
       "      <td>[1, 3, 4, 8, 10]</td>\n",
       "    </tr>\n",
       "    <tr>\n",
       "      <th>1</th>\n",
       "      <td>2</td>\n",
       "      <td>Jumanji (1995)</td>\n",
       "      <td>Adventure|Children|Fantasy</td>\n",
       "      <td>[Adventure, Children, Fantasy]</td>\n",
       "      <td>1995</td>\n",
       "      <td>[1, 0, 0, 0, 0, 0, 0, 1, 0, 1, 0, 0, 0, 0, 0, ...</td>\n",
       "      <td>[1995, 1, 0, 0, 0, 0, 0, 0, 1, 0, 1, 0, 0, 0, ...</td>\n",
       "      <td>[1, 8, 10]</td>\n",
       "    </tr>\n",
       "    <tr>\n",
       "      <th>2</th>\n",
       "      <td>3</td>\n",
       "      <td>Grumpier Old Men (1995)</td>\n",
       "      <td>Comedy|Romance</td>\n",
       "      <td>[Comedy, Romance]</td>\n",
       "      <td>1995</td>\n",
       "      <td>[0, 0, 1, 0, 0, 0, 0, 0, 0, 0, 0, 0, 0, 1, 0, ...</td>\n",
       "      <td>[1995, 0, 0, 1, 0, 0, 0, 0, 0, 0, 0, 0, 0, 0, ...</td>\n",
       "      <td>[3, 14]</td>\n",
       "    </tr>\n",
       "    <tr>\n",
       "      <th>3</th>\n",
       "      <td>4</td>\n",
       "      <td>Waiting to Exhale (1995)</td>\n",
       "      <td>Comedy|Drama|Romance</td>\n",
       "      <td>[Comedy, Drama, Romance]</td>\n",
       "      <td>1995</td>\n",
       "      <td>[0, 0, 1, 0, 0, 0, 0, 0, 0, 0, 0, 0, 0, 1, 0, ...</td>\n",
       "      <td>[1995, 0, 0, 1, 0, 0, 0, 0, 0, 0, 0, 0, 0, 0, ...</td>\n",
       "      <td>[3, 14, 19]</td>\n",
       "    </tr>\n",
       "    <tr>\n",
       "      <th>4</th>\n",
       "      <td>5</td>\n",
       "      <td>Father of the Bride Part II (1995)</td>\n",
       "      <td>Comedy</td>\n",
       "      <td>[Comedy]</td>\n",
       "      <td>1995</td>\n",
       "      <td>[0, 0, 1, 0, 0, 0, 0, 0, 0, 0, 0, 0, 0, 0, 0, ...</td>\n",
       "      <td>[1995, 0, 0, 1, 0, 0, 0, 0, 0, 0, 0, 0, 0, 0, ...</td>\n",
       "      <td>[3]</td>\n",
       "    </tr>\n",
       "    <tr>\n",
       "      <th>...</th>\n",
       "      <td>...</td>\n",
       "      <td>...</td>\n",
       "      <td>...</td>\n",
       "      <td>...</td>\n",
       "      <td>...</td>\n",
       "      <td>...</td>\n",
       "      <td>...</td>\n",
       "      <td>...</td>\n",
       "    </tr>\n",
       "    <tr>\n",
       "      <th>27273</th>\n",
       "      <td>131254</td>\n",
       "      <td>Kein Bund für's Leben (2007)</td>\n",
       "      <td>Comedy</td>\n",
       "      <td>[Comedy]</td>\n",
       "      <td>2007</td>\n",
       "      <td>[0, 0, 1, 0, 0, 0, 0, 0, 0, 0, 0, 0, 0, 0, 0, ...</td>\n",
       "      <td>[2007, 0, 0, 1, 0, 0, 0, 0, 0, 0, 0, 0, 0, 0, ...</td>\n",
       "      <td>[3]</td>\n",
       "    </tr>\n",
       "    <tr>\n",
       "      <th>27274</th>\n",
       "      <td>131256</td>\n",
       "      <td>Feuer, Eis &amp; Dosenbier (2002)</td>\n",
       "      <td>Comedy</td>\n",
       "      <td>[Comedy]</td>\n",
       "      <td>2002</td>\n",
       "      <td>[0, 0, 1, 0, 0, 0, 0, 0, 0, 0, 0, 0, 0, 0, 0, ...</td>\n",
       "      <td>[2002, 0, 0, 1, 0, 0, 0, 0, 0, 0, 0, 0, 0, 0, ...</td>\n",
       "      <td>[3]</td>\n",
       "    </tr>\n",
       "    <tr>\n",
       "      <th>27275</th>\n",
       "      <td>131258</td>\n",
       "      <td>The Pirates (2014)</td>\n",
       "      <td>Adventure</td>\n",
       "      <td>[Adventure]</td>\n",
       "      <td>2014</td>\n",
       "      <td>[0, 0, 0, 0, 0, 0, 0, 1, 0, 0, 0, 0, 0, 0, 0, ...</td>\n",
       "      <td>[2014, 0, 0, 0, 0, 0, 0, 0, 1, 0, 0, 0, 0, 0, ...</td>\n",
       "      <td>[8]</td>\n",
       "    </tr>\n",
       "    <tr>\n",
       "      <th>27276</th>\n",
       "      <td>131260</td>\n",
       "      <td>Rentun Ruusu (2001)</td>\n",
       "      <td>(no genres listed)</td>\n",
       "      <td>[]</td>\n",
       "      <td>2001</td>\n",
       "      <td>[0, 0, 0, 0, 0, 0, 0, 0, 0, 0, 0, 0, 0, 0, 0, ...</td>\n",
       "      <td>[2001, 0, 0, 0, 0, 0, 0, 0, 0, 0, 0, 0, 0, 0, ...</td>\n",
       "      <td>[0]</td>\n",
       "    </tr>\n",
       "    <tr>\n",
       "      <th>27277</th>\n",
       "      <td>131262</td>\n",
       "      <td>Innocence (2014)</td>\n",
       "      <td>Adventure|Fantasy|Horror</td>\n",
       "      <td>[Adventure, Fantasy, Horror]</td>\n",
       "      <td>2014</td>\n",
       "      <td>[1, 0, 0, 0, 0, 0, 0, 1, 0, 0, 0, 0, 0, 0, 0, ...</td>\n",
       "      <td>[2014, 1, 0, 0, 0, 0, 0, 0, 1, 0, 0, 0, 0, 0, ...</td>\n",
       "      <td>[1, 8, 16]</td>\n",
       "    </tr>\n",
       "  </tbody>\n",
       "</table>\n",
       "<p>27278 rows × 8 columns</p>\n",
       "</div>"
      ],
      "text/plain": [
       "       movieId                               title  \\\n",
       "0            1                    Toy Story (1995)   \n",
       "1            2                      Jumanji (1995)   \n",
       "2            3             Grumpier Old Men (1995)   \n",
       "3            4            Waiting to Exhale (1995)   \n",
       "4            5  Father of the Bride Part II (1995)   \n",
       "...        ...                                 ...   \n",
       "27273   131254        Kein Bund für's Leben (2007)   \n",
       "27274   131256       Feuer, Eis & Dosenbier (2002)   \n",
       "27275   131258                  The Pirates (2014)   \n",
       "27276   131260                 Rentun Ruusu (2001)   \n",
       "27277   131262                    Innocence (2014)   \n",
       "\n",
       "                                            genres  \\\n",
       "0      Adventure|Animation|Children|Comedy|Fantasy   \n",
       "1                       Adventure|Children|Fantasy   \n",
       "2                                   Comedy|Romance   \n",
       "3                             Comedy|Drama|Romance   \n",
       "4                                           Comedy   \n",
       "...                                            ...   \n",
       "27273                                       Comedy   \n",
       "27274                                       Comedy   \n",
       "27275                                    Adventure   \n",
       "27276                           (no genres listed)   \n",
       "27277                     Adventure|Fantasy|Horror   \n",
       "\n",
       "                                                 sep_gen  year  \\\n",
       "0      [Adventure, Animation, Children, Comedy, Fantasy]  1995   \n",
       "1                         [Adventure, Children, Fantasy]  1995   \n",
       "2                                      [Comedy, Romance]  1995   \n",
       "3                               [Comedy, Drama, Romance]  1995   \n",
       "4                                               [Comedy]  1995   \n",
       "...                                                  ...   ...   \n",
       "27273                                           [Comedy]  2007   \n",
       "27274                                           [Comedy]  2002   \n",
       "27275                                        [Adventure]  2014   \n",
       "27276                                                 []  2001   \n",
       "27277                       [Adventure, Fantasy, Horror]  2014   \n",
       "\n",
       "                                            genre_vector  \\\n",
       "0      [1, 0, 1, 1, 0, 0, 0, 1, 0, 1, 0, 0, 0, 0, 0, ...   \n",
       "1      [1, 0, 0, 0, 0, 0, 0, 1, 0, 1, 0, 0, 0, 0, 0, ...   \n",
       "2      [0, 0, 1, 0, 0, 0, 0, 0, 0, 0, 0, 0, 0, 1, 0, ...   \n",
       "3      [0, 0, 1, 0, 0, 0, 0, 0, 0, 0, 0, 0, 0, 1, 0, ...   \n",
       "4      [0, 0, 1, 0, 0, 0, 0, 0, 0, 0, 0, 0, 0, 0, 0, ...   \n",
       "...                                                  ...   \n",
       "27273  [0, 0, 1, 0, 0, 0, 0, 0, 0, 0, 0, 0, 0, 0, 0, ...   \n",
       "27274  [0, 0, 1, 0, 0, 0, 0, 0, 0, 0, 0, 0, 0, 0, 0, ...   \n",
       "27275  [0, 0, 0, 0, 0, 0, 0, 1, 0, 0, 0, 0, 0, 0, 0, ...   \n",
       "27276  [0, 0, 0, 0, 0, 0, 0, 0, 0, 0, 0, 0, 0, 0, 0, ...   \n",
       "27277  [1, 0, 0, 0, 0, 0, 0, 1, 0, 0, 0, 0, 0, 0, 0, ...   \n",
       "\n",
       "                                              vector_all    gen_value_list  \n",
       "0      [1995, 1, 0, 1, 1, 0, 0, 0, 1, 0, 1, 0, 0, 0, ...  [1, 3, 4, 8, 10]  \n",
       "1      [1995, 1, 0, 0, 0, 0, 0, 0, 1, 0, 1, 0, 0, 0, ...        [1, 8, 10]  \n",
       "2      [1995, 0, 0, 1, 0, 0, 0, 0, 0, 0, 0, 0, 0, 0, ...           [3, 14]  \n",
       "3      [1995, 0, 0, 1, 0, 0, 0, 0, 0, 0, 0, 0, 0, 0, ...       [3, 14, 19]  \n",
       "4      [1995, 0, 0, 1, 0, 0, 0, 0, 0, 0, 0, 0, 0, 0, ...               [3]  \n",
       "...                                                  ...               ...  \n",
       "27273  [2007, 0, 0, 1, 0, 0, 0, 0, 0, 0, 0, 0, 0, 0, ...               [3]  \n",
       "27274  [2002, 0, 0, 1, 0, 0, 0, 0, 0, 0, 0, 0, 0, 0, ...               [3]  \n",
       "27275  [2014, 0, 0, 0, 0, 0, 0, 0, 1, 0, 0, 0, 0, 0, ...               [8]  \n",
       "27276  [2001, 0, 0, 0, 0, 0, 0, 0, 0, 0, 0, 0, 0, 0, ...               [0]  \n",
       "27277  [2014, 1, 0, 0, 0, 0, 0, 0, 1, 0, 0, 0, 0, 0, ...        [1, 8, 16]  \n",
       "\n",
       "[27278 rows x 8 columns]"
      ]
     },
     "execution_count": 327,
     "metadata": {},
     "output_type": "execute_result"
    }
   ],
   "source": [
    "genre_data"
   ]
  },
  {
   "cell_type": "code",
   "execution_count": 328,
   "metadata": {},
   "outputs": [],
   "source": [
    "gen_value_list=genre_data['gen_value_list'].to_list()"
   ]
  },
  {
   "cell_type": "code",
   "execution_count": 329,
   "metadata": {},
   "outputs": [
    {
     "data": {
      "text/plain": [
       "[[1, 3, 4, 8, 10],\n",
       " [1, 8, 10],\n",
       " [3, 14],\n",
       " [3, 14, 19],\n",
       " [3],\n",
       " [6, 9, 15],\n",
       " [3, 14],\n",
       " [8, 10],\n",
       " [15],\n",
       " [6, 8, 15],\n",
       " [3, 14, 19],\n",
       " [3, 16],\n",
       " [4, 8, 10],\n",
       " [19],\n",
       " [8, 14, 15],\n",
       " [9, 19],\n",
       " [14, 19],\n",
       " [3],\n",
       " [3],\n",
       " [3, 6, 9, 15, 19],\n",
       " [3, 6, 9],\n",
       " [6, 9, 16, 17, 19],\n",
       " [6, 9, 15],\n",
       " [13, 19],\n",
       " [14, 19],\n",
       " [19],\n",
       " [10, 19],\n",
       " [14, 19],\n",
       " [1, 8, 13, 17, 19],\n",
       " [9, 19],\n",
       " [19],\n",
       " [6, 13, 17],\n",
       " [8, 11, 14],\n",
       " [10, 19],\n",
       " [14, 19],\n",
       " [9, 19],\n",
       " [2, 11],\n",
       " [3, 10],\n",
       " [3, 14],\n",
       " [19],\n",
       " [7, 19],\n",
       " [9, 15, 19],\n",
       " [19],\n",
       " [1, 8, 15],\n",
       " [3, 6, 19],\n",
       " [14, 19],\n",
       " [6, 17],\n",
       " [4, 5, 10, 14, 19],\n",
       " [14, 19],\n",
       " [6, 9, 17],\n",
       " [6, 15, 19],\n",
       " [3, 14, 19],\n",
       " [8, 19],\n",
       " [3, 10],\n",
       " [19],\n",
       " [1, 8, 10],\n",
       " [19],\n",
       " [3, 14, 19],\n",
       " [17, 19],\n",
       " [1, 8, 10],\n",
       " [6, 19],\n",
       " [19],\n",
       " [3, 9],\n",
       " [3, 14],\n",
       " [3],\n",
       " [6, 13, 15],\n",
       " [19],\n",
       " [3, 14],\n",
       " [3],\n",
       " [3, 6, 15, 16],\n",
       " [15],\n",
       " [3, 19],\n",
       " [7, 19],\n",
       " [14, 19],\n",
       " [3, 19],\n",
       " [6, 13, 15],\n",
       " [2],\n",
       " [6, 9, 15, 19],\n",
       " [6, 19],\n",
       " [10, 19],\n",
       " [9, 14, 19],\n",
       " [3, 19],\n",
       " [14, 19],\n",
       " [3, 19],\n",
       " [14, 19],\n",
       " [8, 15, 19],\n",
       " [3, 10],\n",
       " [3],\n",
       " [6, 15],\n",
       " [19],\n",
       " [6, 16, 19],\n",
       " [3, 14, 16],\n",
       " [3, 14, 19],\n",
       " [6, 8, 15],\n",
       " [3, 19],\n",
       " [9, 19],\n",
       " [6, 15],\n",
       " [2],\n",
       " [6, 19],\n",
       " [3, 8, 9, 14],\n",
       " [3],\n",
       " [6, 13, 17],\n",
       " [3],\n",
       " [14, 19],\n",
       " [3, 19],\n",
       " [3, 5, 8, 10],\n",
       " [2],\n",
       " [3, 6, 19],\n",
       " [7, 15, 19],\n",
       " [6, 9, 19],\n",
       " [3, 8, 9, 15],\n",
       " [17, 19],\n",
       " [19],\n",
       " [3],\n",
       " [2],\n",
       " [9, 19],\n",
       " [3, 14],\n",
       " [3],\n",
       " [3, 8, 19],\n",
       " [19],\n",
       " [3, 14],\n",
       " [14, 17, 19],\n",
       " [19],\n",
       " [3],\n",
       " [1, 8, 10],\n",
       " [19],\n",
       " [2],\n",
       " [3, 14],\n",
       " [19],\n",
       " [14, 19],\n",
       " [6],\n",
       " [3, 19],\n",
       " [2],\n",
       " [3],\n",
       " [2],\n",
       " [2],\n",
       " [19],\n",
       " [15, 19],\n",
       " [14, 19],\n",
       " [3],\n",
       " [19],\n",
       " [19],\n",
       " [3],\n",
       " [3, 6, 9, 15, 19],\n",
       " [8, 10],\n",
       " [19],\n",
       " [19],\n",
       " [6, 9, 19],\n",
       " [8, 11, 19],\n",
       " [7, 14, 15, 19],\n",
       " [16, 19],\n",
       " [3, 8, 9, 15],\n",
       " [19],\n",
       " [7, 8, 19],\n",
       " [3, 19],\n",
       " [3, 7],\n",
       " [8, 10],\n",
       " [9, 17, 19],\n",
       " [8, 13, 15, 17],\n",
       " [6, 7, 19],\n",
       " [2],\n",
       " [12, 14, 15],\n",
       " [6, 9, 17, 18],\n",
       " [6, 9, 15],\n",
       " [3, 9, 19],\n",
       " [19],\n",
       " [14, 15, 19],\n",
       " [8, 10, 19],\n",
       " [6, 8, 9, 15],\n",
       " [3, 19],\n",
       " [6, 13, 15],\n",
       " [9, 13, 15],\n",
       " [3],\n",
       " [19],\n",
       " [3],\n",
       " [16],\n",
       " [3, 19],\n",
       " [14, 19],\n",
       " [3, 14],\n",
       " [10, 15],\n",
       " [14, 19],\n",
       " [3, 6, 16],\n",
       " [19],\n",
       " [6, 9, 15],\n",
       " [3, 14],\n",
       " [3],\n",
       " [1, 16, 17],\n",
       " [1, 3],\n",
       " [6],\n",
       " [14, 19],\n",
       " [2],\n",
       " [19],\n",
       " [3, 19],\n",
       " [3, 14, 19],\n",
       " [13, 16],\n",
       " [19],\n",
       " [6, 9, 13, 15, 17, 19],\n",
       " [5, 14, 19],\n",
       " [6],\n",
       " [1, 19],\n",
       " [14, 19],\n",
       " [3],\n",
       " [15],\n",
       " [3, 19],\n",
       " [2],\n",
       " [14, 19],\n",
       " [8, 13, 15],\n",
       " [19],\n",
       " [12],\n",
       " [19],\n",
       " [3, 8, 9, 17],\n",
       " [19],\n",
       " [7, 19],\n",
       " [14, 19],\n",
       " [3],\n",
       " [6, 19],\n",
       " [3, 19],\n",
       " [19],\n",
       " [16],\n",
       " [14, 19],\n",
       " [3],\n",
       " [3, 14, 19],\n",
       " [6, 19],\n",
       " [6],\n",
       " [6, 15],\n",
       " [3],\n",
       " [6, 19],\n",
       " [6, 19],\n",
       " [3, 8],\n",
       " [3, 14, 19],\n",
       " [19],\n",
       " [3],\n",
       " [3, 19],\n",
       " [3, 14, 15],\n",
       " [3, 14],\n",
       " [8, 10],\n",
       " [3, 4, 10, 14],\n",
       " [6],\n",
       " [10, 19],\n",
       " [5, 19],\n",
       " [1, 3, 10],\n",
       " [4, 10],\n",
       " [9, 19],\n",
       " [2],\n",
       " [9, 19],\n",
       " [3],\n",
       " [14, 19],\n",
       " [3, 10],\n",
       " [15],\n",
       " [3, 14],\n",
       " [16, 19],\n",
       " [19],\n",
       " [3],\n",
       " [3, 13],\n",
       " [6, 17],\n",
       " [1, 3, 8, 10, 14],\n",
       " [6, 9, 19],\n",
       " [8, 13, 15],\n",
       " [19],\n",
       " [10, 19],\n",
       " [19],\n",
       " [19],\n",
       " [1, 14, 19],\n",
       " [7, 12, 14, 19],\n",
       " [3],\n",
       " [9, 19],\n",
       " [19],\n",
       " [14, 19],\n",
       " [19],\n",
       " [3, 19],\n",
       " [13, 16, 19],\n",
       " [3],\n",
       " [3],\n",
       " [3, 14],\n",
       " [19],\n",
       " [3],\n",
       " [19],\n",
       " [6, 19],\n",
       " [3, 14, 19],\n",
       " [19],\n",
       " [9, 19],\n",
       " [9, 15],\n",
       " [16, 19],\n",
       " [6, 13, 15],\n",
       " [3, 14],\n",
       " [6, 9, 15],\n",
       " [3, 14],\n",
       " [9, 19],\n",
       " [6, 19],\n",
       " [6, 13, 15, 19],\n",
       " [6, 9, 15, 19],\n",
       " [3, 14],\n",
       " [3, 14],\n",
       " [3, 6, 9, 19],\n",
       " [19],\n",
       " [19],\n",
       " [19],\n",
       " [19],\n",
       " [14, 19],\n",
       " [14, 19],\n",
       " [6, 12, 15],\n",
       " [3, 19],\n",
       " [3],\n",
       " [19],\n",
       " [19],\n",
       " [3, 19],\n",
       " [19],\n",
       " [3],\n",
       " [6, 16],\n",
       " [3],\n",
       " [4, 10],\n",
       " [1, 10, 17, 19],\n",
       " [6, 15, 19],\n",
       " [8, 13, 15],\n",
       " [1, 3, 19],\n",
       " [9, 19],\n",
       " [3, 6, 19],\n",
       " [6, 18],\n",
       " [19],\n",
       " [3, 19],\n",
       " [3, 19],\n",
       " [3],\n",
       " [19],\n",
       " [3, 13, 15],\n",
       " [6, 16],\n",
       " [8, 13, 19],\n",
       " [9, 15, 16],\n",
       " [19],\n",
       " [13, 16],\n",
       " [3],\n",
       " [19],\n",
       " [6, 17],\n",
       " [7, 19],\n",
       " [19],\n",
       " [6, 13, 15],\n",
       " [3, 14],\n",
       " [7, 8, 19],\n",
       " [19],\n",
       " [3],\n",
       " [10],\n",
       " [3],\n",
       " [3, 19],\n",
       " [5, 19],\n",
       " [14, 18, 19],\n",
       " [3],\n",
       " [6, 9, 15, 19],\n",
       " [6, 17, 19],\n",
       " [3, 14, 19],\n",
       " [3, 19],\n",
       " [1, 6, 9, 15],\n",
       " [19],\n",
       " [1, 3, 10],\n",
       " [3, 7, 14, 19],\n",
       " [3, 14],\n",
       " [19],\n",
       " [3, 14, 19],\n",
       " [3, 15],\n",
       " [3, 14, 19],\n",
       " [8, 10, 14],\n",
       " [2],\n",
       " [4, 5, 8, 10, 11, 19],\n",
       " [19],\n",
       " [6, 16, 17, 19],\n",
       " [1, 3, 9, 15],\n",
       " [3, 8, 12],\n",
       " [19],\n",
       " [3, 15],\n",
       " [3, 19],\n",
       " [3, 14, 19],\n",
       " [6],\n",
       " [3, 10],\n",
       " [19],\n",
       " [6, 15],\n",
       " [6, 14, 15],\n",
       " [3, 14],\n",
       " [6, 13, 15],\n",
       " [3, 6, 8, 14, 15],\n",
       " [14, 19],\n",
       " [6, 14, 16, 19],\n",
       " [12],\n",
       " [9, 15, 19],\n",
       " [19],\n",
       " [19],\n",
       " [3, 15],\n",
       " [19],\n",
       " [7, 14, 19],\n",
       " [9, 15, 19],\n",
       " [9, 19],\n",
       " [4, 8],\n",
       " [1, 8, 15],\n",
       " [3],\n",
       " [1, 14, 19],\n",
       " [19],\n",
       " [16],\n",
       " [2],\n",
       " [19],\n",
       " [19],\n",
       " [6, 15],\n",
       " [3],\n",
       " [3, 9, 19],\n",
       " [2],\n",
       " [1, 15],\n",
       " [19],\n",
       " [6, 16],\n",
       " [19],\n",
       " [9, 19],\n",
       " [1, 3, 10],\n",
       " [2, 3],\n",
       " [19],\n",
       " [3],\n",
       " [3],\n",
       " [3, 6],\n",
       " [12],\n",
       " [3, 14],\n",
       " [19],\n",
       " [3],\n",
       " [3, 6, 9, 15],\n",
       " [8, 10, 19],\n",
       " [6],\n",
       " [6, 15],\n",
       " [19],\n",
       " [14, 19],\n",
       " [6, 13, 16],\n",
       " [6, 14, 17, 19],\n",
       " [19],\n",
       " [3],\n",
       " [3, 19],\n",
       " [9, 19],\n",
       " [3, 8, 12],\n",
       " [3],\n",
       " [6, 8, 15],\n",
       " [3, 13],\n",
       " [6, 19],\n",
       " [3],\n",
       " [3, 15, 19],\n",
       " [19],\n",
       " [3, 14],\n",
       " [3],\n",
       " [8, 13, 15],\n",
       " [2, 8],\n",
       " [3, 14],\n",
       " [3],\n",
       " [14, 19],\n",
       " [3, 14],\n",
       " [19],\n",
       " [3],\n",
       " [3, 19],\n",
       " [14, 17, 19],\n",
       " [19],\n",
       " [3, 14],\n",
       " [6, 19],\n",
       " [8, 10, 19],\n",
       " [6, 9, 19],\n",
       " [6],\n",
       " [12, 19],\n",
       " [6, 8, 9, 14, 15, 19],\n",
       " [3],\n",
       " [14, 19],\n",
       " [8, 15],\n",
       " [6, 9, 19],\n",
       " [6, 8, 9, 15],\n",
       " [7, 15, 19],\n",
       " [3, 7, 15],\n",
       " [3],\n",
       " [3, 14],\n",
       " [14, 19],\n",
       " [3],\n",
       " [3],\n",
       " [3, 19],\n",
       " [3, 7],\n",
       " [6, 15],\n",
       " [19],\n",
       " [3, 19],\n",
       " [5, 19],\n",
       " [3, 9, 19],\n",
       " [6, 9, 15],\n",
       " [6, 8, 13, 15],\n",
       " [6, 19],\n",
       " [6, 9, 19],\n",
       " [19],\n",
       " [8, 10],\n",
       " [1, 3, 8, 15],\n",
       " [3],\n",
       " [3, 12],\n",
       " [14, 19],\n",
       " [3],\n",
       " [6],\n",
       " [19],\n",
       " [3, 17],\n",
       " [9, 15, 19],\n",
       " [6, 8, 15],\n",
       " [19],\n",
       " [3, 6, 14, 19],\n",
       " [3, 14],\n",
       " [14, 19],\n",
       " [3, 14],\n",
       " [3, 19],\n",
       " [19],\n",
       " [10, 14, 15],\n",
       " [19],\n",
       " [13, 15, 19],\n",
       " [3],\n",
       " [1, 14, 19],\n",
       " [6, 9, 19],\n",
       " [19],\n",
       " [14, 19],\n",
       " [19],\n",
       " [15, 19],\n",
       " [13, 16],\n",
       " [3, 14, 17],\n",
       " [3],\n",
       " [14, 19],\n",
       " [3, 19],\n",
       " [15, 17, 19],\n",
       " [3],\n",
       " [6, 9, 13, 15, 19],\n",
       " [3],\n",
       " [6, 9],\n",
       " [15, 19],\n",
       " [19],\n",
       " [19],\n",
       " [19],\n",
       " [19],\n",
       " [7, 19],\n",
       " [3, 19],\n",
       " [19],\n",
       " [19],\n",
       " [10, 19],\n",
       " [3, 9, 16],\n",
       " [1, 8, 15, 17],\n",
       " [14, 19],\n",
       " [19],\n",
       " [19],\n",
       " [19],\n",
       " [19],\n",
       " [3, 14, 19],\n",
       " [6],\n",
       " [6, 13, 15],\n",
       " [3, 14, 19],\n",
       " [3, 6, 14],\n",
       " [9, 15],\n",
       " [19],\n",
       " [1, 3, 8, 10, 13, 15],\n",
       " [6, 8, 15],\n",
       " [6, 15, 17],\n",
       " [5, 19],\n",
       " [3, 14],\n",
       " [1, 4, 5, 10],\n",
       " [3, 8, 14, 15],\n",
       " [12, 15, 19],\n",
       " [6, 9, 19],\n",
       " [6, 9],\n",
       " [2],\n",
       " [1, 4, 8, 10, 15],\n",
       " [3],\n",
       " [19],\n",
       " [6, 19],\n",
       " [3, 19],\n",
       " [14, 19],\n",
       " [3],\n",
       " [16, 19],\n",
       " [3, 14],\n",
       " [3, 19],\n",
       " [3, 19],\n",
       " [3, 19],\n",
       " [3, 19],\n",
       " [14, 19],\n",
       " [19],\n",
       " [19],\n",
       " [3, 19],\n",
       " [3, 10],\n",
       " [3],\n",
       " [8, 10, 19],\n",
       " [6, 9],\n",
       " [19],\n",
       " [2],\n",
       " [3, 19],\n",
       " [3, 19],\n",
       " [14, 19],\n",
       " [3],\n",
       " [3, 10],\n",
       " [1, 3, 6, 14, 19],\n",
       " [3, 4, 5, 8, 10],\n",
       " [13, 15],\n",
       " [8, 12, 19],\n",
       " [6, 15, 19],\n",
       " [6, 9, 15],\n",
       " [6, 9, 16],\n",
       " [1, 4, 5, 10, 19],\n",
       " [1, 4, 5, 10, 11, 14],\n",
       " [1, 4, 5, 10],\n",
       " [3, 14],\n",
       " [1, 3],\n",
       " [8, 12],\n",
       " [3, 9, 15],\n",
       " [19],\n",
       " [2],\n",
       " [3],\n",
       " [2],\n",
       " [14, 19],\n",
       " [1, 16],\n",
       " [19],\n",
       " [3, 6, 9, 19],\n",
       " [8, 10],\n",
       " [4, 8, 13, 15, 16],\n",
       " [13, 15, 16],\n",
       " [3],\n",
       " [14, 19],\n",
       " [6, 19],\n",
       " [3, 19],\n",
       " [4, 10],\n",
       " [3, 19],\n",
       " [3, 14],\n",
       " [3],\n",
       " [19],\n",
       " [19],\n",
       " [14],\n",
       " [6, 15, 19],\n",
       " [19],\n",
       " [3],\n",
       " [6, 19],\n",
       " [6, 9, 17, 19],\n",
       " [19],\n",
       " [14, 19],\n",
       " [1, 4, 5, 8, 10, 14],\n",
       " [7, 19],\n",
       " [3],\n",
       " [3],\n",
       " [3, 19],\n",
       " [19],\n",
       " [3],\n",
       " [14],\n",
       " [3, 19],\n",
       " [6, 19],\n",
       " [3, 8, 10],\n",
       " [19],\n",
       " [3],\n",
       " [3],\n",
       " [19],\n",
       " [7, 9, 15, 19],\n",
       " [6, 8, 15, 17],\n",
       " [3, 19],\n",
       " [19],\n",
       " [3],\n",
       " [6, 16, 17],\n",
       " [1, 8, 15],\n",
       " [14, 19],\n",
       " [3],\n",
       " [3],\n",
       " [3, 19],\n",
       " [5, 19],\n",
       " [6, 9, 19],\n",
       " [19],\n",
       " [1, 4, 5, 8, 10],\n",
       " [6],\n",
       " [3],\n",
       " [3],\n",
       " [3, 7, 19],\n",
       " [7, 14, 19],\n",
       " [15],\n",
       " [19],\n",
       " [19],\n",
       " [3, 13],\n",
       " [19],\n",
       " [1, 3, 4, 8, 10, 13],\n",
       " [3, 8, 13],\n",
       " [6, 15, 19],\n",
       " [3, 13, 16],\n",
       " [6, 19],\n",
       " [19],\n",
       " [6, 13, 14, 17, 19],\n",
       " [9],\n",
       " [2, 19],\n",
       " [2],\n",
       " [19],\n",
       " [19],\n",
       " [14, 19],\n",
       " [3, 7, 8, 15],\n",
       " [14, 19],\n",
       " [3, 14],\n",
       " [6, 13, 15],\n",
       " [19],\n",
       " [9, 15, 19],\n",
       " [6, 17],\n",
       " [6, 19],\n",
       " [14, 19],\n",
       " [19],\n",
       " [19],\n",
       " [3],\n",
       " [19],\n",
       " [19],\n",
       " [19],\n",
       " [8, 15],\n",
       " [3],\n",
       " [19],\n",
       " [6, 9, 19],\n",
       " [3, 14],\n",
       " [3, 4, 5, 8, 10],\n",
       " [3],\n",
       " [8, 10],\n",
       " [6, 9, 14, 19],\n",
       " [19],\n",
       " [12, 17, 19],\n",
       " [14, 19],\n",
       " [9],\n",
       " [3],\n",
       " [1, 3, 13],\n",
       " [3],\n",
       " [3, 4, 8],\n",
       " [19],\n",
       " [2],\n",
       " [19],\n",
       " [1, 6, 16, 19],\n",
       " [3],\n",
       " [19],\n",
       " [2],\n",
       " [3],\n",
       " [19],\n",
       " [19],\n",
       " [6, 9],\n",
       " [9],\n",
       " [6, 8, 15],\n",
       " [3],\n",
       " [16],\n",
       " [6, 8, 14, 15],\n",
       " [13, 15],\n",
       " [19],\n",
       " [3],\n",
       " [4, 13],\n",
       " [6, 16],\n",
       " [3],\n",
       " [19],\n",
       " [3, 4, 10],\n",
       " [18],\n",
       " [3],\n",
       " [6, 13, 15],\n",
       " [19],\n",
       " [3, 7],\n",
       " [3, 16],\n",
       " [2, 3, 14],\n",
       " [3, 14, 19],\n",
       " [8, 10],\n",
       " [10, 19],\n",
       " [2],\n",
       " [19],\n",
       " [19],\n",
       " [2],\n",
       " [7, 19],\n",
       " [8, 15],\n",
       " [3, 9],\n",
       " [3, 19],\n",
       " [14, 19],\n",
       " [3, 19],\n",
       " [19],\n",
       " [3, 19],\n",
       " [19],\n",
       " [2],\n",
       " [19],\n",
       " [3, 19],\n",
       " [3],\n",
       " [19],\n",
       " [19],\n",
       " [16, 17],\n",
       " [3, 19],\n",
       " [7],\n",
       " [3, 9, 19],\n",
       " [14, 19],\n",
       " [6, 8, 13, 15],\n",
       " [19],\n",
       " [6, 19],\n",
       " [4, 5, 10, 14, 19],\n",
       " [3, 6],\n",
       " [3],\n",
       " [6, 15, 19],\n",
       " [2],\n",
       " [1, 3, 13, 14],\n",
       " [19],\n",
       " [19],\n",
       " [2],\n",
       " [1],\n",
       " [19],\n",
       " [3, 19],\n",
       " [19],\n",
       " [19],\n",
       " [3],\n",
       " [6, 8, 15, 19],\n",
       " [3, 6, 16],\n",
       " [12, 17, 19],\n",
       " [3, 10],\n",
       " [14, 19],\n",
       " [3, 14, 19],\n",
       " [3, 14],\n",
       " [6, 19],\n",
       " [9, 19],\n",
       " [3, 14],\n",
       " [8, 10],\n",
       " [8, 15],\n",
       " [1, 3, 10],\n",
       " [19],\n",
       " [3],\n",
       " [19],\n",
       " [6, 15, 17],\n",
       " [19],\n",
       " [3],\n",
       " [3, 19],\n",
       " [19],\n",
       " [14, 19],\n",
       " [7, 14, 19],\n",
       " [19],\n",
       " [17, 19],\n",
       " [3, 14],\n",
       " [19],\n",
       " [19],\n",
       " [8, 10],\n",
       " [1, 3, 5],\n",
       " [3],\n",
       " [19],\n",
       " [6, 9],\n",
       " [3],\n",
       " [3],\n",
       " [19],\n",
       " [6, 8, 15],\n",
       " [1, 3, 10],\n",
       " [3, 14, 19],\n",
       " [6, 15],\n",
       " [3, 10],\n",
       " [16],\n",
       " [3, 16],\n",
       " [19],\n",
       " [19],\n",
       " [19],\n",
       " [19],\n",
       " [3, 19],\n",
       " [19],\n",
       " [6, 8, 13, 15],\n",
       " [9, 19],\n",
       " [19],\n",
       " [3, 14, 19],\n",
       " [19],\n",
       " [19],\n",
       " [19],\n",
       " [3],\n",
       " [19],\n",
       " [9, 19],\n",
       " [2],\n",
       " [3],\n",
       " [3, 6, 9, 15],\n",
       " [19],\n",
       " [3, 19],\n",
       " [19],\n",
       " [6, 9, 14, 19],\n",
       " [3, 9],\n",
       " [3],\n",
       " [5, 6, 9, 19],\n",
       " [3],\n",
       " [3],\n",
       " [19],\n",
       " [19],\n",
       " [9, 19],\n",
       " [9, 15, 19],\n",
       " [3, 6, 9, 15],\n",
       " [3, 19],\n",
       " [19],\n",
       " [6, 16],\n",
       " [6, 13],\n",
       " [3, 10],\n",
       " [6, 19],\n",
       " [19],\n",
       " [1, 10, 19],\n",
       " [3, 9, 15],\n",
       " [19],\n",
       " [4, 5, 8, 10],\n",
       " [14, 19],\n",
       " [6],\n",
       " [6, 16],\n",
       " [3, 14, 19],\n",
       " [19],\n",
       " [14],\n",
       " [19],\n",
       " [19],\n",
       " [7, 8, 14, 19],\n",
       " [3, 14, 19],\n",
       " [3, 5, 14],\n",
       " [5, 14],\n",
       " [3, 5],\n",
       " [14, 19],\n",
       " [6, 14, 17, 19],\n",
       " [6, 17],\n",
       " [3, 14],\n",
       " [6, 19],\n",
       " [3, 5, 14],\n",
       " [6, 8, 14, 15, 17],\n",
       " [3, 14, 19],\n",
       " [3, 9],\n",
       " [3, 6, 9, 14, 17],\n",
       " [14, 19],\n",
       " [17, 18],\n",
       " [3, 5, 14, 19],\n",
       " [3, 14],\n",
       " [3, 14, 19],\n",
       " [10, 19],\n",
       " [5],\n",
       " [1, 5, 8, 10],\n",
       " [7, 14, 19],\n",
       " [3],\n",
       " [14, 18, 19],\n",
       " [17, 19],\n",
       " [8, 13, 19],\n",
       " [7, 8, 14],\n",
       " [19],\n",
       " [3],\n",
       " [6, 14, 17, 19],\n",
       " [6, 17, 18, 19],\n",
       " [6, 14, 18],\n",
       " [6, 14, 17],\n",
       " [14, 19],\n",
       " [6, 9, 14, 17],\n",
       " [3],\n",
       " [3, 5],\n",
       " [3, 14],\n",
       " [3, 14],\n",
       " [5],\n",
       " [3, 19],\n",
       " [8, 14, 15],\n",
       " [8],\n",
       " [9, 17, 18],\n",
       " [1, 14, 19],\n",
       " [19],\n",
       " [3, 5, 14],\n",
       " [3, 7, 19],\n",
       " [3, 14],\n",
       " [12, 14, 19],\n",
       " [19],\n",
       " [3, 9],\n",
       " [3, 14],\n",
       " [3, 8],\n",
       " [1, 14, 19],\n",
       " [19],\n",
       " [3, 14],\n",
       " [14, 19],\n",
       " [19],\n",
       " [3, 17],\n",
       " [19],\n",
       " [9, 19],\n",
       " [19],\n",
       " [9, 19],\n",
       " [5],\n",
       " [12, 14],\n",
       " [6, 17, 19],\n",
       " [7],\n",
       " [12],\n",
       " [6, 13, 16],\n",
       " [3, 7, 8, 14],\n",
       " [3, 8, 9, 14, 19],\n",
       " [19],\n",
       " [19],\n",
       " [3, 19],\n",
       " [14, 19],\n",
       " [3, 5],\n",
       " [7, 14],\n",
       " [17],\n",
       " [7, 19],\n",
       " [15],\n",
       " [19],\n",
       " [19],\n",
       " [14],\n",
       " [3, 19],\n",
       " [2],\n",
       " [8, 10],\n",
       " [14, 19],\n",
       " [3, 19],\n",
       " [19],\n",
       " [6, 8, 15],\n",
       " [19],\n",
       " [6],\n",
       " [19],\n",
       " [3, 19],\n",
       " [6, 9, 15, 19],\n",
       " [6, 19],\n",
       " [9, 15],\n",
       " [9, 18],\n",
       " [9],\n",
       " [3],\n",
       " [3, 14],\n",
       " [6, 19],\n",
       " [6, 15],\n",
       " [3, 10],\n",
       " [19],\n",
       " [3, 10, 12],\n",
       " [8, 12],\n",
       " [1, 8, 10],\n",
       " [3, 10],\n",
       " [3, 8, 10],\n",
       " [10, 19],\n",
       " [3, 10, 14],\n",
       " [3, 10, 19],\n",
       " [8, 10, 19],\n",
       " [3, 10],\n",
       " [8, 10],\n",
       " [3, 10, 17],\n",
       " ...]"
      ]
     },
     "execution_count": 329,
     "metadata": {},
     "output_type": "execute_result"
    }
   ],
   "source": [
    "gen_value_list"
   ]
  },
  {
   "cell_type": "code",
   "execution_count": 330,
   "metadata": {},
   "outputs": [
    {
     "data": {
      "text/plain": [
       "27278"
      ]
     },
     "execution_count": 330,
     "metadata": {},
     "output_type": "execute_result"
    }
   ],
   "source": [
    "len(gen_value_list)"
   ]
  },
  {
   "cell_type": "code",
   "execution_count": 332,
   "metadata": {},
   "outputs": [],
   "source": [
    "padded_gen_value=tf.keras.preprocessing.sequence.pad_sequences(gen_value_list, padding='post')"
   ]
  },
  {
   "cell_type": "code",
   "execution_count": 340,
   "metadata": {},
   "outputs": [
    {
     "data": {
      "text/plain": [
       "10"
      ]
     },
     "execution_count": 340,
     "metadata": {},
     "output_type": "execute_result"
    }
   ],
   "source": [
    "len(padded_gen_value[0])"
   ]
  },
  {
   "cell_type": "code",
   "execution_count": 337,
   "metadata": {},
   "outputs": [
    {
     "ename": "ValueError",
     "evalue": "Wrong number of items passed 10, placement implies 1",
     "output_type": "error",
     "traceback": [
      "\u001b[0;31m---------------------------------------------------------------------------\u001b[0m",
      "\u001b[0;31mKeyError\u001b[0m                                  Traceback (most recent call last)",
      "\u001b[0;32m~/own/env/lib/python3.7/site-packages/pandas/core/indexes/base.py\u001b[0m in \u001b[0;36mget_loc\u001b[0;34m(self, key, method, tolerance)\u001b[0m\n\u001b[1;32m   2645\u001b[0m             \u001b[0;32mtry\u001b[0m\u001b[0;34m:\u001b[0m\u001b[0;34m\u001b[0m\u001b[0m\n\u001b[0;32m-> 2646\u001b[0;31m                 \u001b[0;32mreturn\u001b[0m \u001b[0mself\u001b[0m\u001b[0;34m.\u001b[0m\u001b[0m_engine\u001b[0m\u001b[0;34m.\u001b[0m\u001b[0mget_loc\u001b[0m\u001b[0;34m(\u001b[0m\u001b[0mkey\u001b[0m\u001b[0;34m)\u001b[0m\u001b[0;34m\u001b[0m\u001b[0m\n\u001b[0m\u001b[1;32m   2647\u001b[0m             \u001b[0;32mexcept\u001b[0m \u001b[0mKeyError\u001b[0m\u001b[0;34m:\u001b[0m\u001b[0;34m\u001b[0m\u001b[0m\n",
      "\u001b[0;32mpandas/_libs/index.pyx\u001b[0m in \u001b[0;36mpandas._libs.index.IndexEngine.get_loc\u001b[0;34m()\u001b[0m\n",
      "\u001b[0;32mpandas/_libs/index.pyx\u001b[0m in \u001b[0;36mpandas._libs.index.IndexEngine.get_loc\u001b[0;34m()\u001b[0m\n",
      "\u001b[0;32mpandas/_libs/hashtable_class_helper.pxi\u001b[0m in \u001b[0;36mpandas._libs.hashtable.PyObjectHashTable.get_item\u001b[0;34m()\u001b[0m\n",
      "\u001b[0;32mpandas/_libs/hashtable_class_helper.pxi\u001b[0m in \u001b[0;36mpandas._libs.hashtable.PyObjectHashTable.get_item\u001b[0;34m()\u001b[0m\n",
      "\u001b[0;31mKeyError\u001b[0m: 'padded_gen'",
      "\nDuring handling of the above exception, another exception occurred:\n",
      "\u001b[0;31mKeyError\u001b[0m                                  Traceback (most recent call last)",
      "\u001b[0;32m~/own/env/lib/python3.7/site-packages/pandas/core/internals/managers.py\u001b[0m in \u001b[0;36mset\u001b[0;34m(self, item, value)\u001b[0m\n\u001b[1;32m   1070\u001b[0m         \u001b[0;32mtry\u001b[0m\u001b[0;34m:\u001b[0m\u001b[0;34m\u001b[0m\u001b[0m\n\u001b[0;32m-> 1071\u001b[0;31m             \u001b[0mloc\u001b[0m \u001b[0;34m=\u001b[0m \u001b[0mself\u001b[0m\u001b[0;34m.\u001b[0m\u001b[0mitems\u001b[0m\u001b[0;34m.\u001b[0m\u001b[0mget_loc\u001b[0m\u001b[0;34m(\u001b[0m\u001b[0mitem\u001b[0m\u001b[0;34m)\u001b[0m\u001b[0;34m\u001b[0m\u001b[0m\n\u001b[0m\u001b[1;32m   1072\u001b[0m         \u001b[0;32mexcept\u001b[0m \u001b[0mKeyError\u001b[0m\u001b[0;34m:\u001b[0m\u001b[0;34m\u001b[0m\u001b[0m\n",
      "\u001b[0;32m~/own/env/lib/python3.7/site-packages/pandas/core/indexes/base.py\u001b[0m in \u001b[0;36mget_loc\u001b[0;34m(self, key, method, tolerance)\u001b[0m\n\u001b[1;32m   2647\u001b[0m             \u001b[0;32mexcept\u001b[0m \u001b[0mKeyError\u001b[0m\u001b[0;34m:\u001b[0m\u001b[0;34m\u001b[0m\u001b[0m\n\u001b[0;32m-> 2648\u001b[0;31m                 \u001b[0;32mreturn\u001b[0m \u001b[0mself\u001b[0m\u001b[0;34m.\u001b[0m\u001b[0m_engine\u001b[0m\u001b[0;34m.\u001b[0m\u001b[0mget_loc\u001b[0m\u001b[0;34m(\u001b[0m\u001b[0mself\u001b[0m\u001b[0;34m.\u001b[0m\u001b[0m_maybe_cast_indexer\u001b[0m\u001b[0;34m(\u001b[0m\u001b[0mkey\u001b[0m\u001b[0;34m)\u001b[0m\u001b[0;34m)\u001b[0m\u001b[0;34m\u001b[0m\u001b[0m\n\u001b[0m\u001b[1;32m   2649\u001b[0m         \u001b[0mindexer\u001b[0m \u001b[0;34m=\u001b[0m \u001b[0mself\u001b[0m\u001b[0;34m.\u001b[0m\u001b[0mget_indexer\u001b[0m\u001b[0;34m(\u001b[0m\u001b[0;34m[\u001b[0m\u001b[0mkey\u001b[0m\u001b[0;34m]\u001b[0m\u001b[0;34m,\u001b[0m \u001b[0mmethod\u001b[0m\u001b[0;34m=\u001b[0m\u001b[0mmethod\u001b[0m\u001b[0;34m,\u001b[0m \u001b[0mtolerance\u001b[0m\u001b[0;34m=\u001b[0m\u001b[0mtolerance\u001b[0m\u001b[0;34m)\u001b[0m\u001b[0;34m\u001b[0m\u001b[0m\n",
      "\u001b[0;32mpandas/_libs/index.pyx\u001b[0m in \u001b[0;36mpandas._libs.index.IndexEngine.get_loc\u001b[0;34m()\u001b[0m\n",
      "\u001b[0;32mpandas/_libs/index.pyx\u001b[0m in \u001b[0;36mpandas._libs.index.IndexEngine.get_loc\u001b[0;34m()\u001b[0m\n",
      "\u001b[0;32mpandas/_libs/hashtable_class_helper.pxi\u001b[0m in \u001b[0;36mpandas._libs.hashtable.PyObjectHashTable.get_item\u001b[0;34m()\u001b[0m\n",
      "\u001b[0;32mpandas/_libs/hashtable_class_helper.pxi\u001b[0m in \u001b[0;36mpandas._libs.hashtable.PyObjectHashTable.get_item\u001b[0;34m()\u001b[0m\n",
      "\u001b[0;31mKeyError\u001b[0m: 'padded_gen'",
      "\nDuring handling of the above exception, another exception occurred:\n",
      "\u001b[0;31mValueError\u001b[0m                                Traceback (most recent call last)",
      "\u001b[0;32m<ipython-input-337-2f60d1e72de5>\u001b[0m in \u001b[0;36m<module>\u001b[0;34m\u001b[0m\n\u001b[0;32m----> 1\u001b[0;31m \u001b[0mgenre_data\u001b[0m\u001b[0;34m[\u001b[0m\u001b[0;34m'padded_gen'\u001b[0m\u001b[0;34m]\u001b[0m\u001b[0;34m=\u001b[0m\u001b[0mpadded_gen_value\u001b[0m\u001b[0;34m\u001b[0m\u001b[0m\n\u001b[0m",
      "\u001b[0;32m~/own/env/lib/python3.7/site-packages/pandas/core/frame.py\u001b[0m in \u001b[0;36m__setitem__\u001b[0;34m(self, key, value)\u001b[0m\n\u001b[1;32m   2936\u001b[0m         \u001b[0;32melse\u001b[0m\u001b[0;34m:\u001b[0m\u001b[0;34m\u001b[0m\u001b[0m\n\u001b[1;32m   2937\u001b[0m             \u001b[0;31m# set column\u001b[0m\u001b[0;34m\u001b[0m\u001b[0;34m\u001b[0m\u001b[0m\n\u001b[0;32m-> 2938\u001b[0;31m             \u001b[0mself\u001b[0m\u001b[0;34m.\u001b[0m\u001b[0m_set_item\u001b[0m\u001b[0;34m(\u001b[0m\u001b[0mkey\u001b[0m\u001b[0;34m,\u001b[0m \u001b[0mvalue\u001b[0m\u001b[0;34m)\u001b[0m\u001b[0;34m\u001b[0m\u001b[0m\n\u001b[0m\u001b[1;32m   2939\u001b[0m \u001b[0;34m\u001b[0m\u001b[0m\n\u001b[1;32m   2940\u001b[0m     \u001b[0;32mdef\u001b[0m \u001b[0m_setitem_slice\u001b[0m\u001b[0;34m(\u001b[0m\u001b[0mself\u001b[0m\u001b[0;34m,\u001b[0m \u001b[0mkey\u001b[0m\u001b[0;34m,\u001b[0m \u001b[0mvalue\u001b[0m\u001b[0;34m)\u001b[0m\u001b[0;34m:\u001b[0m\u001b[0;34m\u001b[0m\u001b[0m\n",
      "\u001b[0;32m~/own/env/lib/python3.7/site-packages/pandas/core/frame.py\u001b[0m in \u001b[0;36m_set_item\u001b[0;34m(self, key, value)\u001b[0m\n\u001b[1;32m   2999\u001b[0m         \u001b[0mself\u001b[0m\u001b[0;34m.\u001b[0m\u001b[0m_ensure_valid_index\u001b[0m\u001b[0;34m(\u001b[0m\u001b[0mvalue\u001b[0m\u001b[0;34m)\u001b[0m\u001b[0;34m\u001b[0m\u001b[0m\n\u001b[1;32m   3000\u001b[0m         \u001b[0mvalue\u001b[0m \u001b[0;34m=\u001b[0m \u001b[0mself\u001b[0m\u001b[0;34m.\u001b[0m\u001b[0m_sanitize_column\u001b[0m\u001b[0;34m(\u001b[0m\u001b[0mkey\u001b[0m\u001b[0;34m,\u001b[0m \u001b[0mvalue\u001b[0m\u001b[0;34m)\u001b[0m\u001b[0;34m\u001b[0m\u001b[0m\n\u001b[0;32m-> 3001\u001b[0;31m         \u001b[0mNDFrame\u001b[0m\u001b[0;34m.\u001b[0m\u001b[0m_set_item\u001b[0m\u001b[0;34m(\u001b[0m\u001b[0mself\u001b[0m\u001b[0;34m,\u001b[0m \u001b[0mkey\u001b[0m\u001b[0;34m,\u001b[0m \u001b[0mvalue\u001b[0m\u001b[0;34m)\u001b[0m\u001b[0;34m\u001b[0m\u001b[0m\n\u001b[0m\u001b[1;32m   3002\u001b[0m \u001b[0;34m\u001b[0m\u001b[0m\n\u001b[1;32m   3003\u001b[0m         \u001b[0;31m# check if we are modifying a copy\u001b[0m\u001b[0;34m\u001b[0m\u001b[0;34m\u001b[0m\u001b[0m\n",
      "\u001b[0;32m~/own/env/lib/python3.7/site-packages/pandas/core/generic.py\u001b[0m in \u001b[0;36m_set_item\u001b[0;34m(self, key, value)\u001b[0m\n\u001b[1;32m   3622\u001b[0m \u001b[0;34m\u001b[0m\u001b[0m\n\u001b[1;32m   3623\u001b[0m     \u001b[0;32mdef\u001b[0m \u001b[0m_set_item\u001b[0m\u001b[0;34m(\u001b[0m\u001b[0mself\u001b[0m\u001b[0;34m,\u001b[0m \u001b[0mkey\u001b[0m\u001b[0;34m,\u001b[0m \u001b[0mvalue\u001b[0m\u001b[0;34m)\u001b[0m \u001b[0;34m->\u001b[0m \u001b[0;32mNone\u001b[0m\u001b[0;34m:\u001b[0m\u001b[0;34m\u001b[0m\u001b[0m\n\u001b[0;32m-> 3624\u001b[0;31m         \u001b[0mself\u001b[0m\u001b[0;34m.\u001b[0m\u001b[0m_data\u001b[0m\u001b[0;34m.\u001b[0m\u001b[0mset\u001b[0m\u001b[0;34m(\u001b[0m\u001b[0mkey\u001b[0m\u001b[0;34m,\u001b[0m \u001b[0mvalue\u001b[0m\u001b[0;34m)\u001b[0m\u001b[0;34m\u001b[0m\u001b[0m\n\u001b[0m\u001b[1;32m   3625\u001b[0m         \u001b[0mself\u001b[0m\u001b[0;34m.\u001b[0m\u001b[0m_clear_item_cache\u001b[0m\u001b[0;34m(\u001b[0m\u001b[0;34m)\u001b[0m\u001b[0;34m\u001b[0m\u001b[0m\n\u001b[1;32m   3626\u001b[0m \u001b[0;34m\u001b[0m\u001b[0m\n",
      "\u001b[0;32m~/own/env/lib/python3.7/site-packages/pandas/core/internals/managers.py\u001b[0m in \u001b[0;36mset\u001b[0;34m(self, item, value)\u001b[0m\n\u001b[1;32m   1072\u001b[0m         \u001b[0;32mexcept\u001b[0m \u001b[0mKeyError\u001b[0m\u001b[0;34m:\u001b[0m\u001b[0;34m\u001b[0m\u001b[0m\n\u001b[1;32m   1073\u001b[0m             \u001b[0;31m# This item wasn't present, just insert at end\u001b[0m\u001b[0;34m\u001b[0m\u001b[0;34m\u001b[0m\u001b[0m\n\u001b[0;32m-> 1074\u001b[0;31m             \u001b[0mself\u001b[0m\u001b[0;34m.\u001b[0m\u001b[0minsert\u001b[0m\u001b[0;34m(\u001b[0m\u001b[0mlen\u001b[0m\u001b[0;34m(\u001b[0m\u001b[0mself\u001b[0m\u001b[0;34m.\u001b[0m\u001b[0mitems\u001b[0m\u001b[0;34m)\u001b[0m\u001b[0;34m,\u001b[0m \u001b[0mitem\u001b[0m\u001b[0;34m,\u001b[0m \u001b[0mvalue\u001b[0m\u001b[0;34m)\u001b[0m\u001b[0;34m\u001b[0m\u001b[0m\n\u001b[0m\u001b[1;32m   1075\u001b[0m             \u001b[0;32mreturn\u001b[0m\u001b[0;34m\u001b[0m\u001b[0m\n\u001b[1;32m   1076\u001b[0m \u001b[0;34m\u001b[0m\u001b[0m\n",
      "\u001b[0;32m~/own/env/lib/python3.7/site-packages/pandas/core/internals/managers.py\u001b[0m in \u001b[0;36minsert\u001b[0;34m(self, loc, item, value, allow_duplicates)\u001b[0m\n\u001b[1;32m   1179\u001b[0m         \u001b[0mnew_axis\u001b[0m \u001b[0;34m=\u001b[0m \u001b[0mself\u001b[0m\u001b[0;34m.\u001b[0m\u001b[0mitems\u001b[0m\u001b[0;34m.\u001b[0m\u001b[0minsert\u001b[0m\u001b[0;34m(\u001b[0m\u001b[0mloc\u001b[0m\u001b[0;34m,\u001b[0m \u001b[0mitem\u001b[0m\u001b[0;34m)\u001b[0m\u001b[0;34m\u001b[0m\u001b[0m\n\u001b[1;32m   1180\u001b[0m \u001b[0;34m\u001b[0m\u001b[0m\n\u001b[0;32m-> 1181\u001b[0;31m         \u001b[0mblock\u001b[0m \u001b[0;34m=\u001b[0m \u001b[0mmake_block\u001b[0m\u001b[0;34m(\u001b[0m\u001b[0mvalues\u001b[0m\u001b[0;34m=\u001b[0m\u001b[0mvalue\u001b[0m\u001b[0;34m,\u001b[0m \u001b[0mndim\u001b[0m\u001b[0;34m=\u001b[0m\u001b[0mself\u001b[0m\u001b[0;34m.\u001b[0m\u001b[0mndim\u001b[0m\u001b[0;34m,\u001b[0m \u001b[0mplacement\u001b[0m\u001b[0;34m=\u001b[0m\u001b[0mslice\u001b[0m\u001b[0;34m(\u001b[0m\u001b[0mloc\u001b[0m\u001b[0;34m,\u001b[0m \u001b[0mloc\u001b[0m \u001b[0;34m+\u001b[0m \u001b[0;36m1\u001b[0m\u001b[0;34m)\u001b[0m\u001b[0;34m)\u001b[0m\u001b[0;34m\u001b[0m\u001b[0m\n\u001b[0m\u001b[1;32m   1182\u001b[0m \u001b[0;34m\u001b[0m\u001b[0m\n\u001b[1;32m   1183\u001b[0m         \u001b[0;32mfor\u001b[0m \u001b[0mblkno\u001b[0m\u001b[0;34m,\u001b[0m \u001b[0mcount\u001b[0m \u001b[0;32min\u001b[0m \u001b[0m_fast_count_smallints\u001b[0m\u001b[0;34m(\u001b[0m\u001b[0mself\u001b[0m\u001b[0;34m.\u001b[0m\u001b[0m_blknos\u001b[0m\u001b[0;34m[\u001b[0m\u001b[0mloc\u001b[0m\u001b[0;34m:\u001b[0m\u001b[0;34m]\u001b[0m\u001b[0;34m)\u001b[0m\u001b[0;34m:\u001b[0m\u001b[0;34m\u001b[0m\u001b[0m\n",
      "\u001b[0;32m~/own/env/lib/python3.7/site-packages/pandas/core/internals/blocks.py\u001b[0m in \u001b[0;36mmake_block\u001b[0;34m(values, placement, klass, ndim, dtype)\u001b[0m\n\u001b[1;32m   3045\u001b[0m         \u001b[0mvalues\u001b[0m \u001b[0;34m=\u001b[0m \u001b[0mDatetimeArray\u001b[0m\u001b[0;34m.\u001b[0m\u001b[0m_simple_new\u001b[0m\u001b[0;34m(\u001b[0m\u001b[0mvalues\u001b[0m\u001b[0;34m,\u001b[0m \u001b[0mdtype\u001b[0m\u001b[0;34m=\u001b[0m\u001b[0mdtype\u001b[0m\u001b[0;34m)\u001b[0m\u001b[0;34m\u001b[0m\u001b[0m\n\u001b[1;32m   3046\u001b[0m \u001b[0;34m\u001b[0m\u001b[0m\n\u001b[0;32m-> 3047\u001b[0;31m     \u001b[0;32mreturn\u001b[0m \u001b[0mklass\u001b[0m\u001b[0;34m(\u001b[0m\u001b[0mvalues\u001b[0m\u001b[0;34m,\u001b[0m \u001b[0mndim\u001b[0m\u001b[0;34m=\u001b[0m\u001b[0mndim\u001b[0m\u001b[0;34m,\u001b[0m \u001b[0mplacement\u001b[0m\u001b[0;34m=\u001b[0m\u001b[0mplacement\u001b[0m\u001b[0;34m)\u001b[0m\u001b[0;34m\u001b[0m\u001b[0m\n\u001b[0m\u001b[1;32m   3048\u001b[0m \u001b[0;34m\u001b[0m\u001b[0m\n\u001b[1;32m   3049\u001b[0m \u001b[0;34m\u001b[0m\u001b[0m\n",
      "\u001b[0;32m~/own/env/lib/python3.7/site-packages/pandas/core/internals/blocks.py\u001b[0m in \u001b[0;36m__init__\u001b[0;34m(self, values, placement, ndim)\u001b[0m\n\u001b[1;32m    123\u001b[0m         \u001b[0;32mif\u001b[0m \u001b[0mself\u001b[0m\u001b[0;34m.\u001b[0m\u001b[0m_validate_ndim\u001b[0m \u001b[0;32mand\u001b[0m \u001b[0mself\u001b[0m\u001b[0;34m.\u001b[0m\u001b[0mndim\u001b[0m \u001b[0;32mand\u001b[0m \u001b[0mlen\u001b[0m\u001b[0;34m(\u001b[0m\u001b[0mself\u001b[0m\u001b[0;34m.\u001b[0m\u001b[0mmgr_locs\u001b[0m\u001b[0;34m)\u001b[0m \u001b[0;34m!=\u001b[0m \u001b[0mlen\u001b[0m\u001b[0;34m(\u001b[0m\u001b[0mself\u001b[0m\u001b[0;34m.\u001b[0m\u001b[0mvalues\u001b[0m\u001b[0;34m)\u001b[0m\u001b[0;34m:\u001b[0m\u001b[0;34m\u001b[0m\u001b[0m\n\u001b[1;32m    124\u001b[0m             raise ValueError(\n\u001b[0;32m--> 125\u001b[0;31m                 \u001b[0;34mf\"Wrong number of items passed {len(self.values)}, \"\u001b[0m\u001b[0;34m\u001b[0m\u001b[0m\n\u001b[0m\u001b[1;32m    126\u001b[0m                 \u001b[0;34mf\"placement implies {len(self.mgr_locs)}\"\u001b[0m\u001b[0;34m\u001b[0m\u001b[0m\n\u001b[1;32m    127\u001b[0m             )\n",
      "\u001b[0;31mValueError\u001b[0m: Wrong number of items passed 10, placement implies 1"
     ]
    }
   ],
   "source": [
    "genre_data['padded_gen']=padded_gen_value"
   ]
  },
  {
   "cell_type": "code",
   "execution_count": 320,
   "metadata": {},
   "outputs": [
    {
     "data": {
      "text/plain": [
       "(27278,)"
      ]
     },
     "execution_count": 320,
     "metadata": {},
     "output_type": "execute_result"
    }
   ],
   "source": [
    "np.asarray(gen_value_list).shape"
   ]
  },
  {
   "cell_type": "code",
   "execution_count": 102,
   "metadata": {},
   "outputs": [
    {
     "data": {
      "text/plain": [
       "2015"
      ]
     },
     "execution_count": 102,
     "metadata": {},
     "output_type": "execute_result"
    }
   ],
   "source": [
    "max(genre_data['year'])"
   ]
  },
  {
   "cell_type": "code",
   "execution_count": 103,
   "metadata": {
    "scrolled": true
   },
   "outputs": [
    {
     "data": {
      "text/plain": [
       "0"
      ]
     },
     "execution_count": 103,
     "metadata": {},
     "output_type": "execute_result"
    }
   ],
   "source": [
    "min(genre_data['year'])"
   ]
  },
  {
   "cell_type": "code",
   "execution_count": 105,
   "metadata": {},
   "outputs": [
    {
     "data": {
      "text/plain": [
       "1995"
      ]
     },
     "execution_count": 105,
     "metadata": {},
     "output_type": "execute_result"
    }
   ],
   "source": [
    "genre_data['year'][0]"
   ]
  },
  {
   "cell_type": "code",
   "execution_count": 112,
   "metadata": {
    "collapsed": true,
    "scrolled": true
   },
   "outputs": [],
   "source": [
    "genre_data['vector_all']=[[genre_data['year'][i]]+genre_data['genre_vector'][i] for i in range(len(genre_data['year']))]"
   ]
  },
  {
   "cell_type": "code",
   "execution_count": 91,
   "metadata": {
    "collapsed": true,
    "scrolled": true
   },
   "outputs": [],
   "source": [
    "import sklearn as sk\n",
    "from sklearn.preprocessing import OneHotEncoder"
   ]
  },
  {
   "cell_type": "code",
   "execution_count": 82,
   "metadata": {
    "collapsed": true
   },
   "outputs": [],
   "source": [
    "genre=set()\n",
    "for gl in genre_data['sep_gen']:\n",
    "    for g in gl:\n",
    "        genre.add(g)"
   ]
  },
  {
   "cell_type": "code",
   "execution_count": 84,
   "metadata": {
    "scrolled": false
   },
   "outputs": [
    {
     "data": {
      "text/plain": [
       "['Fantasy',\n",
       " 'Documentary',\n",
       " 'Comedy',\n",
       " 'Animation',\n",
       " 'Musical',\n",
       " 'Thriller',\n",
       " 'War',\n",
       " 'Adventure',\n",
       " 'Crime',\n",
       " 'Children',\n",
       " 'IMAX',\n",
       " 'Western',\n",
       " 'Sci-Fi',\n",
       " 'Romance',\n",
       " 'Action',\n",
       " 'Horror',\n",
       " 'Mystery',\n",
       " 'Film-Noir',\n",
       " 'Drama']"
      ]
     },
     "execution_count": 84,
     "metadata": {},
     "output_type": "execute_result"
    }
   ],
   "source": [
    "list(genre)"
   ]
  },
  {
   "cell_type": "code",
   "execution_count": 243,
   "metadata": {},
   "outputs": [
    {
     "data": {
      "text/plain": [
       "19"
      ]
     },
     "execution_count": 243,
     "metadata": {},
     "output_type": "execute_result"
    }
   ],
   "source": [
    "len(list(genre))"
   ]
  },
  {
   "cell_type": "code",
   "execution_count": 295,
   "metadata": {
    "collapsed": true
   },
   "outputs": [],
   "source": [
    "genreVector=pd.merge(train_data['movieId'],\n",
    "                     genre_data[['movieId', 'gen_value_list']],\n",
    "                     left_on='movieId', right_on='movieId',\n",
    "                     how='left'\n",
    "                    )"
   ]
  },
  {
   "cell_type": "code",
   "execution_count": 115,
   "metadata": {
    "collapsed": true
   },
   "outputs": [],
   "source": [
    "movieVector=pd.merge(train_data['movieId'], \n",
    "                     genre_data[['movieId', 'vector_all']], \n",
    "                     left_on='movieId', right_on='movieId',\n",
    "                     how='left'\n",
    "                    )"
   ]
  },
  {
   "cell_type": "code",
   "execution_count": 296,
   "metadata": {
    "scrolled": true
   },
   "outputs": [
    {
     "data": {
      "text/html": [
       "<div>\n",
       "<style scoped>\n",
       "    .dataframe tbody tr th:only-of-type {\n",
       "        vertical-align: middle;\n",
       "    }\n",
       "\n",
       "    .dataframe tbody tr th {\n",
       "        vertical-align: top;\n",
       "    }\n",
       "\n",
       "    .dataframe thead th {\n",
       "        text-align: right;\n",
       "    }\n",
       "</style>\n",
       "<table border=\"1\" class=\"dataframe\">\n",
       "  <thead>\n",
       "    <tr style=\"text-align: right;\">\n",
       "      <th></th>\n",
       "      <th>movieId</th>\n",
       "      <th>gen_value_list</th>\n",
       "    </tr>\n",
       "  </thead>\n",
       "  <tbody>\n",
       "    <tr>\n",
       "      <th>0</th>\n",
       "      <td>1193</td>\n",
       "      <td>[18]</td>\n",
       "    </tr>\n",
       "    <tr>\n",
       "      <th>1</th>\n",
       "      <td>1284</td>\n",
       "      <td>[8, 16, 17]</td>\n",
       "    </tr>\n",
       "    <tr>\n",
       "      <th>2</th>\n",
       "      <td>368</td>\n",
       "      <td>[2, 7, 11]</td>\n",
       "    </tr>\n",
       "    <tr>\n",
       "      <th>3</th>\n",
       "      <td>490</td>\n",
       "      <td>[5]</td>\n",
       "    </tr>\n",
       "    <tr>\n",
       "      <th>4</th>\n",
       "      <td>2132</td>\n",
       "      <td>[18]</td>\n",
       "    </tr>\n",
       "    <tr>\n",
       "      <th>...</th>\n",
       "      <td>...</td>\n",
       "      <td>...</td>\n",
       "    </tr>\n",
       "    <tr>\n",
       "      <th>15971861</th>\n",
       "      <td>3505</td>\n",
       "      <td>[5, 16, 18]</td>\n",
       "    </tr>\n",
       "    <tr>\n",
       "      <th>15971862</th>\n",
       "      <td>1242</td>\n",
       "      <td>[6, 18]</td>\n",
       "    </tr>\n",
       "    <tr>\n",
       "      <th>15971863</th>\n",
       "      <td>434</td>\n",
       "      <td>[5, 7, 14]</td>\n",
       "    </tr>\n",
       "    <tr>\n",
       "      <th>15971864</th>\n",
       "      <td>356</td>\n",
       "      <td>[2, 6, 13, 18]</td>\n",
       "    </tr>\n",
       "    <tr>\n",
       "      <th>15971865</th>\n",
       "      <td>1887</td>\n",
       "      <td>[2, 7, 11]</td>\n",
       "    </tr>\n",
       "  </tbody>\n",
       "</table>\n",
       "<p>15971866 rows × 2 columns</p>\n",
       "</div>"
      ],
      "text/plain": [
       "          movieId  gen_value_list\n",
       "0            1193            [18]\n",
       "1            1284     [8, 16, 17]\n",
       "2             368      [2, 7, 11]\n",
       "3             490             [5]\n",
       "4            2132            [18]\n",
       "...           ...             ...\n",
       "15971861     3505     [5, 16, 18]\n",
       "15971862     1242         [6, 18]\n",
       "15971863      434      [5, 7, 14]\n",
       "15971864      356  [2, 6, 13, 18]\n",
       "15971865     1887      [2, 7, 11]\n",
       "\n",
       "[15971866 rows x 2 columns]"
      ]
     },
     "execution_count": 296,
     "metadata": {},
     "output_type": "execute_result"
    }
   ],
   "source": [
    "genreVector"
   ]
  },
  {
   "cell_type": "code",
   "execution_count": 297,
   "metadata": {
    "collapsed": true
   },
   "outputs": [],
   "source": [
    "genre_train_input=genreVector['gen_value_list']"
   ]
  },
  {
   "cell_type": "code",
   "execution_count": 335,
   "metadata": {
    "scrolled": true
   },
   "outputs": [
    {
     "data": {
      "text/plain": [
       "0                     [18]\n",
       "1              [8, 16, 17]\n",
       "2               [2, 7, 11]\n",
       "3                      [5]\n",
       "4                     [18]\n",
       "                 ...      \n",
       "15971861       [5, 16, 18]\n",
       "15971862           [6, 18]\n",
       "15971863        [5, 7, 14]\n",
       "15971864    [2, 6, 13, 18]\n",
       "15971865        [2, 7, 11]\n",
       "Name: gen_value_list, Length: 15971866, dtype: object"
      ]
     },
     "execution_count": 335,
     "metadata": {},
     "output_type": "execute_result"
    }
   ],
   "source": [
    "genre_train_input"
   ]
  },
  {
   "cell_type": "code",
   "execution_count": 341,
   "metadata": {},
   "outputs": [],
   "source": [
    "genre_train_input=tf.keras.preprocessing.sequence.pad_sequences(genre_train_input, padding='post')"
   ]
  },
  {
   "cell_type": "code",
   "execution_count": 342,
   "metadata": {},
   "outputs": [
    {
     "data": {
      "text/plain": [
       "array([[18,  0,  0, ...,  0,  0,  0],\n",
       "       [ 8, 16, 17, ...,  0,  0,  0],\n",
       "       [ 2,  7, 11, ...,  0,  0,  0],\n",
       "       ...,\n",
       "       [ 5,  7, 14, ...,  0,  0,  0],\n",
       "       [ 2,  6, 13, ...,  0,  0,  0],\n",
       "       [ 2,  7, 11, ...,  0,  0,  0]], dtype=int32)"
      ]
     },
     "execution_count": 342,
     "metadata": {},
     "output_type": "execute_result"
    }
   ],
   "source": [
    "genre_train_input"
   ]
  },
  {
   "cell_type": "code",
   "execution_count": 117,
   "metadata": {},
   "outputs": [
    {
     "data": {
      "text/plain": [
       "20"
      ]
     },
     "execution_count": 117,
     "metadata": {},
     "output_type": "execute_result"
    }
   ],
   "source": [
    "len(movieVector['vector_all'][0])"
   ]
  },
  {
   "cell_type": "code",
   "execution_count": 122,
   "metadata": {
    "collapsed": true
   },
   "outputs": [],
   "source": [
    "movieVector['all']=[[movieVector['movieId'][i]]+movieVector['vector_all'][i] for i in range(len(movieVector['movieId']))]"
   ]
  },
  {
   "cell_type": "code",
   "execution_count": 123,
   "metadata": {
    "collapsed": true
   },
   "outputs": [],
   "source": [
    "movie_train_input=movieVector['all'].values.tolist()"
   ]
  },
  {
   "cell_type": "code",
   "execution_count": 3,
   "metadata": {
    "collapsed": true
   },
   "outputs": [],
   "source": [
    "user_train_input=train_data['userId'].values.tolist()\n",
    "user_test_input=test_data['userId'].values.tolist()\n",
    "\n",
    "item_train_input=train_data['movieId'].values.tolist()\n",
    "item_test_input=test_data['movieId'].values.tolist()\n",
    "\n",
    "label_train_input=train_data['preference'].values.tolist()\n",
    "label_test_input=test_data['preference'].values.tolist()"
   ]
  },
  {
   "cell_type": "code",
   "execution_count": 4,
   "metadata": {
    "collapsed": true
   },
   "outputs": [],
   "source": [
    "num_users=len(train_data.userId.unique())+1\n",
    "num_items=max(item_train_input)+1"
   ]
  },
  {
   "cell_type": "code",
   "execution_count": 5,
   "metadata": {
    "collapsed": true
   },
   "outputs": [],
   "source": [
    "model_all=NMFModel(user_train_input, item_train_input, label_train_input, num_users, num_items)"
   ]
  },
  {
   "cell_type": "code",
   "execution_count": 18,
   "metadata": {
    "collapsed": true
   },
   "outputs": [],
   "source": [
    "def cal_result(pred_result, label_test_input):\n",
    "    ans=0\n",
    "    for i in range(len(pred_result)):\n",
    "        if label_test_input==0:\n",
    "            continue\n",
    "        elif label_test_input[i]==1 and pred_result[i]>0:\n",
    "            ans+=1\n",
    "        elif label_test_input[i]==-1 and pred_result[i]<0:\n",
    "            ans+=1\n",
    "        else:\n",
    "            ans-=1\n",
    "    return ans"
   ]
  },
  {
   "cell_type": "code",
   "execution_count": 262,
   "metadata": {
    "collapsed": true
   },
   "outputs": [],
   "source": [
    "num_genres=len(list(genre))"
   ]
  },
  {
   "cell_type": "code",
   "execution_count": 346,
   "metadata": {},
   "outputs": [],
   "source": [
    "num_factors=16\n",
    "num_movie_factors=8\n",
    "user_input_layer=layers.Input(shape=(1,), dtype='int32', name='user_input')\n",
    "item_input_layer=layers.Input(shape=(1,), dtype='int32', name='item_input')\n",
    "genre_input_layer=layers.Input(shape=(None,), dtype='int32', name='genre_input')\n",
    "\n",
    "user_embedding_layer=layers.Embedding(input_dim=num_users, \n",
    "                               output_dim=num_factors, \n",
    "                               embeddings_regularizer=regularizers.l2(0.),\n",
    "                               name='user_embedding'\n",
    "                              )(user_input_layer)\n",
    "\n",
    "\n",
    "item_embedding_layer=layers.Embedding(input_dim=num_items, \n",
    "                               output_dim=num_movie_factors,\n",
    "                               embeddings_regularizer=regularizers.l2(0.),\n",
    "                               name='item_embedding'\n",
    "                              )(item_input_layer)\n",
    "\n",
    "genre_embedding_layer=layers.Embedding(input_dim=num_genres,\n",
    "                               output_dim=num_movie_factors,\n",
    "                               mask_zero=True,\n",
    "                               embeddings_regularizer=regularizers.l2(0.),\n",
    "                               name='genre_embedding'\n",
    "                              )(genre_input_layer)\n",
    "mean=tf.reduce_mean(genre_embedding_layer, 0)\n",
    "\n",
    "# flatten embedding vector\n",
    "user_latent=layers.Flatten()(user_embedding_layer)\n",
    "item_latent=layers.Flatten()(item_embedding_layer)\n",
    "genre_latent=layers.Flatten()(mean)\n"
   ]
  },
  {
   "cell_type": "code",
   "execution_count": 347,
   "metadata": {},
   "outputs": [
    {
     "data": {
      "text/plain": [
       "<tf.Tensor 'flatten_95/Identity:0' shape=(None, 8) dtype=float32>"
      ]
     },
     "execution_count": 347,
     "metadata": {},
     "output_type": "execute_result"
    }
   ],
   "source": [
    "genre_latent"
   ]
  },
  {
   "cell_type": "code",
   "execution_count": 348,
   "metadata": {},
   "outputs": [],
   "source": [
    "movie_latent=layers.concatenate([item_latent, genre_latent])\n",
    "ew_product=layers.multiply([user_latent, movie_latent])\n",
    "ew_product=layers.BatchNormalization()(ew_product)\n",
    "\n",
    "prediction=layers.Dense(1, activation='tanh', name='prediction')(ew_product)"
   ]
  },
  {
   "cell_type": "code",
   "execution_count": 349,
   "metadata": {},
   "outputs": [
    {
     "data": {
      "text/plain": [
       "<tf.Tensor 'concatenate_20/Identity:0' shape=(None, 16) dtype=float32>"
      ]
     },
     "execution_count": 349,
     "metadata": {},
     "output_type": "execute_result"
    }
   ],
   "source": [
    "movie_latent"
   ]
  },
  {
   "cell_type": "code",
   "execution_count": 350,
   "metadata": {},
   "outputs": [],
   "source": [
    "gmf_movie_model=Model([user_input_layer, item_input_layer, genre_input_layer], prediction)"
   ]
  },
  {
   "cell_type": "code",
   "execution_count": 352,
   "metadata": {
    "scrolled": true
   },
   "outputs": [
    {
     "name": "stdout",
     "output_type": "stream",
     "text": [
      "Model: \"model_17\"\n",
      "__________________________________________________________________________________________________\n",
      "Layer (type)                    Output Shape         Param #     Connected to                     \n",
      "==================================================================================================\n",
      "genre_input (InputLayer)        [(None, None)]       0                                            \n",
      "__________________________________________________________________________________________________\n",
      "item_input (InputLayer)         [(None, 1)]          0                                            \n",
      "__________________________________________________________________________________________________\n",
      "genre_embedding (Embedding)     (None, None, 8)      152         genre_input[0][0]                \n",
      "__________________________________________________________________________________________________\n",
      "user_input (InputLayer)         [(None, 1)]          0                                            \n",
      "__________________________________________________________________________________________________\n",
      "item_embedding (Embedding)      (None, 1, 8)         1043928     item_input[0][0]                 \n",
      "__________________________________________________________________________________________________\n",
      "tf_op_layer_Mean (TensorFlowOpL [(None, 8)]          0           genre_embedding[0][0]            \n",
      "__________________________________________________________________________________________________\n",
      "user_embedding (Embedding)      (None, 1, 16)        2215904     user_input[0][0]                 \n",
      "__________________________________________________________________________________________________\n",
      "flatten_94 (Flatten)            (None, 8)            0           item_embedding[0][0]             \n",
      "__________________________________________________________________________________________________\n",
      "flatten_95 (Flatten)            (None, 8)            0           tf_op_layer_Mean[0][0]           \n",
      "__________________________________________________________________________________________________\n",
      "flatten_93 (Flatten)            (None, 16)           0           user_embedding[0][0]             \n",
      "__________________________________________________________________________________________________\n",
      "concatenate_20 (Concatenate)    (None, 16)           0           flatten_94[0][0]                 \n",
      "                                                                 flatten_95[0][0]                 \n",
      "__________________________________________________________________________________________________\n",
      "multiply_28 (Multiply)          (None, 16)           0           flatten_93[0][0]                 \n",
      "                                                                 concatenate_20[0][0]             \n",
      "__________________________________________________________________________________________________\n",
      "batch_normalization_41 (BatchNo (None, 16)           64          multiply_28[0][0]                \n",
      "__________________________________________________________________________________________________\n",
      "prediction (Dense)              (None, 1)            17          batch_normalization_41[0][0]     \n",
      "==================================================================================================\n",
      "Total params: 3,260,065\n",
      "Trainable params: 3,260,033\n",
      "Non-trainable params: 32\n",
      "__________________________________________________________________________________________________\n"
     ]
    }
   ],
   "source": [
    "gmf_movie_model.summary()"
   ]
  },
  {
   "cell_type": "code",
   "execution_count": null,
   "metadata": {},
   "outputs": [
    {
     "name": "stdout",
     "output_type": "stream",
     "text": [
      "Train on 15971866 samples\n",
      " 3964980/15971866 [======>.......................] - ETA: 5:06:36 - loss: 0.5630 - mae: 0.6478 - mse: 0.5630"
     ]
    }
   ],
   "source": [
    "gmf_movie_model.compile(loss='mse', optimizer='adam', metrics=['mae', 'mse'])\n",
    "cp_callback=tf.keras.callbacks.ModelCheckpoint('./test_train2/gmf_movie',\n",
    "                                                       save_weights_only=True,\n",
    "                                                       verbose=1)\n",
    "hist=gmf_movie_model.fit([np.array(user_train_input), np.array(item_train_input), np.array(genre_train_input)], \n",
    "          np.array(label_train_input),\n",
    "          batch_size=10,\n",
    "          epochs=1,\n",
    "          callbacks = [cp_callback]\n",
    "         )"
   ]
  },
  {
   "cell_type": "code",
   "execution_count": null,
   "metadata": {
    "collapsed": true
   },
   "outputs": [],
   "source": [
    "num_factors=21\n",
    "user_input_layer=layers.Input(shape=(1,), dtype='int32', name='user_input')\n",
    "movie_input_layer=layers.Input(shape=(21,), dtype='float', name='movie_input')\n",
    "\n",
    "user_embedding_layer=layers.Embedding(input_dim=num_users, \n",
    "                               output_dim=num_factors, \n",
    "                               embeddings_regularizer=regularizers.l2(0.),\n",
    "                               name='user_embedding'\n",
    "                              )(user_input_layer)\n",
    "\n",
    "\n",
    "movie_embedding_layer=layers.Embedding(#input_dim=num_items, \n",
    "                               #output_dim=num_factors,\n",
    "                                7, 200,\n",
    "                               embeddings_regularizer=regularizers.l2(0.),\n",
    "                               name='movie_embedding'\n",
    "                              )(movie_input_layer)\n",
    "\n",
    "# flatten embedding vector\n",
    "user_latent=layers.Flatten()(user_embedding_layer)\n",
    "movie_latent=layers.Flatten()(movie_input_layer)\n",
    "\n"
   ]
  },
  {
   "cell_type": "code",
   "execution_count": 231,
   "metadata": {},
   "outputs": [
    {
     "data": {
      "text/plain": [
       "TensorShape([None, 21])"
      ]
     },
     "execution_count": 231,
     "metadata": {},
     "output_type": "execute_result"
    }
   ],
   "source": [
    "movie_input_layer.shape"
   ]
  },
  {
   "cell_type": "code",
   "execution_count": 232,
   "metadata": {},
   "outputs": [
    {
     "data": {
      "text/plain": [
       "TensorShape([None, 1, 21])"
      ]
     },
     "execution_count": 232,
     "metadata": {},
     "output_type": "execute_result"
    }
   ],
   "source": [
    "user_embedding_layer.shape"
   ]
  },
  {
   "cell_type": "code",
   "execution_count": 221,
   "metadata": {},
   "outputs": [
    {
     "data": {
      "text/plain": [
       "<tf.Tensor 'movie_input_15:0' shape=(None, 21) dtype=float32>"
      ]
     },
     "execution_count": 221,
     "metadata": {},
     "output_type": "execute_result"
    }
   ],
   "source": [
    "movie_input_layer"
   ]
  },
  {
   "cell_type": "code",
   "execution_count": 222,
   "metadata": {},
   "outputs": [
    {
     "data": {
      "text/plain": [
       "TensorShape([None, 1, 21, 21])"
      ]
     },
     "execution_count": 222,
     "metadata": {},
     "output_type": "execute_result"
    }
   ],
   "source": [
    "movie_embedding_layer.shape"
   ]
  },
  {
   "cell_type": "code",
   "execution_count": 223,
   "metadata": {},
   "outputs": [
    {
     "data": {
      "text/plain": [
       "TensorShape([None, 21])"
      ]
     },
     "execution_count": 223,
     "metadata": {},
     "output_type": "execute_result"
    }
   ],
   "source": [
    "movie_latent.shape"
   ]
  },
  {
   "cell_type": "code",
   "execution_count": 224,
   "metadata": {
    "collapsed": true
   },
   "outputs": [],
   "source": [
    "# element wise product\n",
    "ew_product=layers.multiply([user_latent, movie_latent])\n",
    "ew_product=layers.BatchNormalization()(ew_product)\n",
    "\n",
    "prediction=layers.Dense(1, activation='tanh', name='prediction')(ew_product)\n",
    "\n",
    "gmf_movie_model=Model([user_input_layer, movie_input_layer], prediction)"
   ]
  },
  {
   "cell_type": "code",
   "execution_count": 227,
   "metadata": {},
   "outputs": [
    {
     "name": "stdout",
     "output_type": "stream",
     "text": [
      "Train on 15971866 samples\n",
      "Epoch 1/5\n",
      "15971584/15971866 [============================>.] - ETA: 0s - loss: 0.5385 - mae: 0.6074 - mse: 0.5385\n",
      "Epoch 00001: saving model to ./test_train/gmf_movie\n",
      "15971866/15971866 [==============================] - 1152s 72us/sample - loss: 0.5385 - mae: 0.6074 - mse: 0.5385\n",
      "Epoch 2/5\n",
      "15971840/15971866 [============================>.] - ETA: 0s - loss: 0.5310 - mae: 0.5991 - mse: 0.5310\n",
      "Epoch 00002: saving model to ./test_train/gmf_movie\n",
      "15971866/15971866 [==============================] - 1155s 72us/sample - loss: 0.5310 - mae: 0.5991 - mse: 0.5310\n",
      "Epoch 3/5\n",
      "15971328/15971866 [============================>.] - ETA: 0s - loss: 0.5264 - mae: 0.5941 - mse: 0.5264\n",
      "Epoch 00003: saving model to ./test_train/gmf_movie\n",
      "15971866/15971866 [==============================] - 1163s 73us/sample - loss: 0.5264 - mae: 0.5942 - mse: 0.5264\n",
      "Epoch 4/5\n",
      "15971840/15971866 [============================>.] - ETA: 0s - loss: 0.5233 - mae: 0.5908 - mse: 0.5233\n",
      "Epoch 00004: saving model to ./test_train/gmf_movie\n",
      "15971866/15971866 [==============================] - 1164s 73us/sample - loss: 0.5233 - mae: 0.5908 - mse: 0.5233\n",
      "Epoch 5/5\n",
      "15971840/15971866 [============================>.] - ETA: 0s - loss: 0.5210 - mae: 0.5883 - mse: 0.5210\n",
      "Epoch 00005: saving model to ./test_train/gmf_movie\n",
      "15971866/15971866 [==============================] - 1163s 73us/sample - loss: 0.5210 - mae: 0.5883 - mse: 0.5210\n"
     ]
    }
   ],
   "source": [
    "gmf_movie_model.compile(loss='mse', optimizer='adam', metrics=['mae', 'mse'])\n",
    "cp_callback=tf.keras.callbacks.ModelCheckpoint('./test_train/gmf_movie',\n",
    "                                                       save_weights_only=True,\n",
    "                                                       verbose=1)\n",
    "hist=gmf_movie_model.fit([np.array(user_train_input), np.array(movie_train_input)], \n",
    "          np.array(label_train_input),\n",
    "          batch_size=256,\n",
    "          epochs=5,\n",
    "          callbacks = [cp_callback]\n",
    "         )"
   ]
  },
  {
   "cell_type": "code",
   "execution_count": 233,
   "metadata": {
    "collapsed": true
   },
   "outputs": [],
   "source": [
    "movieTest=pd.merge(test_data['movieId'], \n",
    "                     genre_data[['movieId', 'vector_all']], \n",
    "                     left_on='movieId', right_on='movieId',\n",
    "                     how='left'\n",
    "                    )\n",
    "movieTest['all']=[[movieTest['movieId'][i]]+movieTest['vector_all'][i] for i in range(len(movieTest['movieId']))]\n",
    "movie_test_input=movieTest['all'].values.tolist()"
   ]
  },
  {
   "cell_type": "code",
   "execution_count": 235,
   "metadata": {},
   "outputs": [],
   "source": [
    "mv_predict=gmf_movie_model.predict([np.array(user_test_input), np.array(movie_test_input)]).flatten()"
   ]
  },
  {
   "cell_type": "code",
   "execution_count": 236,
   "metadata": {},
   "outputs": [
    {
     "data": {
      "text/plain": [
       "456551"
      ]
     },
     "execution_count": 236,
     "metadata": {},
     "output_type": "execute_result"
    }
   ],
   "source": [
    "cal_result(mv_predict, label_test_input)"
   ]
  },
  {
   "cell_type": "markdown",
   "metadata": {},
   "source": [
    "### mlp"
   ]
  },
  {
   "cell_type": "code",
   "execution_count": 12,
   "metadata": {
    "collapsed": true
   },
   "outputs": [],
   "source": [
    "mlp_model=model_all.get_mlp_model(num_layers=3)"
   ]
  },
  {
   "cell_type": "code",
   "execution_count": 13,
   "metadata": {
    "scrolled": true
   },
   "outputs": [
    {
     "name": "stdout",
     "output_type": "stream",
     "text": [
      "Model: \"model_2\"\n",
      "__________________________________________________________________________________________________\n",
      "Layer (type)                    Output Shape         Param #     Connected to                     \n",
      "==================================================================================================\n",
      "user_input (InputLayer)         [(None, 1)]          0                                            \n",
      "__________________________________________________________________________________________________\n",
      "item_input (InputLayer)         [(None, 1)]          0                                            \n",
      "__________________________________________________________________________________________________\n",
      "user_embedding (Embedding)      (None, 1, 32)        4431808     user_input[0][0]                 \n",
      "__________________________________________________________________________________________________\n",
      "item_embedding (Embedding)      (None, 1, 32)        4175712     item_input[0][0]                 \n",
      "__________________________________________________________________________________________________\n",
      "flatten_4 (Flatten)             (None, 32)           0           user_embedding[0][0]             \n",
      "__________________________________________________________________________________________________\n",
      "flatten_5 (Flatten)             (None, 32)           0           item_embedding[0][0]             \n",
      "__________________________________________________________________________________________________\n",
      "concatenate_2 (Concatenate)     (None, 64)           0           flatten_4[0][0]                  \n",
      "                                                                 flatten_5[0][0]                  \n",
      "__________________________________________________________________________________________________\n",
      "layer1 (Dense)                  (None, 64)           4160        concatenate_2[0][0]              \n",
      "__________________________________________________________________________________________________\n",
      "batch_normalization_5 (BatchNor (None, 64)           256         layer1[0][0]                     \n",
      "__________________________________________________________________________________________________\n",
      "layer2 (Dense)                  (None, 32)           2080        batch_normalization_5[0][0]      \n",
      "__________________________________________________________________________________________________\n",
      "batch_normalization_6 (BatchNor (None, 32)           128         layer2[0][0]                     \n",
      "__________________________________________________________________________________________________\n",
      "prediction (Dense)              (None, 1)            33          batch_normalization_6[0][0]      \n",
      "==================================================================================================\n",
      "Total params: 8,614,177\n",
      "Trainable params: 8,613,985\n",
      "Non-trainable params: 192\n",
      "__________________________________________________________________________________________________\n"
     ]
    }
   ],
   "source": [
    "model_all.print_graph('mlp')"
   ]
  },
  {
   "cell_type": "code",
   "execution_count": 14,
   "metadata": {},
   "outputs": [
    {
     "name": "stdout",
     "output_type": "stream",
     "text": [
      "Train on 15971866 samples\n",
      "15971840/15971866 [============================>.] - ETA: 0s - loss: 0.5000 - mae: 0.5000 - mse: 0.6363\n",
      "Epoch 00001: saving model to ./pretrained/training_1/mlp\n",
      "15971866/15971866 [==============================] - 3032s 190us/sample - loss: 0.5000 - mae: 0.5000 - mse: 0.6363\n"
     ]
    },
    {
     "data": {
      "text/plain": [
       "<tensorflow.python.keras.callbacks.History at 0x26cff46d8>"
      ]
     },
     "execution_count": 14,
     "metadata": {},
     "output_type": "execute_result"
    }
   ],
   "source": [
    "model_all.fit_model(mlp_model, './pretrained/training_1/mlp', n_epochs=1)"
   ]
  },
  {
   "cell_type": "code",
   "execution_count": 16,
   "metadata": {
    "collapsed": true
   },
   "outputs": [],
   "source": [
    "mlp_pred=model_all.predict('mlp', user_test_input, item_test_input)\n"
   ]
  },
  {
   "cell_type": "code",
   "execution_count": 19,
   "metadata": {},
   "outputs": [
    {
     "data": {
      "text/plain": [
       "717393"
      ]
     },
     "execution_count": 19,
     "metadata": {},
     "output_type": "execute_result"
    }
   ],
   "source": [
    "cal_result(mlp_pred, label_test_input)"
   ]
  },
  {
   "cell_type": "markdown",
   "metadata": {},
   "source": [
    "### gmf"
   ]
  },
  {
   "cell_type": "code",
   "execution_count": 20,
   "metadata": {
    "collapsed": true
   },
   "outputs": [],
   "source": [
    "gmf_model=model_all.get_gmf_model()"
   ]
  },
  {
   "cell_type": "code",
   "execution_count": 21,
   "metadata": {
    "scrolled": true
   },
   "outputs": [
    {
     "name": "stdout",
     "output_type": "stream",
     "text": [
      "Model: \"model_3\"\n",
      "__________________________________________________________________________________________________\n",
      "Layer (type)                    Output Shape         Param #     Connected to                     \n",
      "==================================================================================================\n",
      "user_input (InputLayer)         [(None, 1)]          0                                            \n",
      "__________________________________________________________________________________________________\n",
      "item_input (InputLayer)         [(None, 1)]          0                                            \n",
      "__________________________________________________________________________________________________\n",
      "user_embedding (Embedding)      (None, 1, 16)        2215904     user_input[0][0]                 \n",
      "__________________________________________________________________________________________________\n",
      "item_embedding (Embedding)      (None, 1, 16)        2087856     item_input[0][0]                 \n",
      "__________________________________________________________________________________________________\n",
      "flatten_6 (Flatten)             (None, 16)           0           user_embedding[0][0]             \n",
      "__________________________________________________________________________________________________\n",
      "flatten_7 (Flatten)             (None, 16)           0           item_embedding[0][0]             \n",
      "__________________________________________________________________________________________________\n",
      "multiply (Multiply)             (None, 16)           0           flatten_6[0][0]                  \n",
      "                                                                 flatten_7[0][0]                  \n",
      "__________________________________________________________________________________________________\n",
      "batch_normalization_7 (BatchNor (None, 16)           64          multiply[0][0]                   \n",
      "__________________________________________________________________________________________________\n",
      "dense (Dense)                   (None, 128)          2176        batch_normalization_7[0][0]      \n",
      "__________________________________________________________________________________________________\n",
      "prediction (Dense)              (None, 1)            129         dense[0][0]                      \n",
      "==================================================================================================\n",
      "Total params: 4,306,129\n",
      "Trainable params: 4,306,097\n",
      "Non-trainable params: 32\n",
      "__________________________________________________________________________________________________\n"
     ]
    }
   ],
   "source": [
    "model_all.print_graph('gmf')"
   ]
  },
  {
   "cell_type": "code",
   "execution_count": 23,
   "metadata": {},
   "outputs": [
    {
     "name": "stdout",
     "output_type": "stream",
     "text": [
      "Train on 15971866 samples\n",
      "15971840/15971866 [============================>.] - ETA: 0s - loss: 0.6445 - mae: 0.6445 - mse: 1.0302\n",
      "Epoch 00001: saving model to ./pretrained/training_1\n",
      "15971866/15971866 [==============================] - 1584s 99us/sample - loss: 0.6445 - mae: 0.6445 - mse: 1.0302\n"
     ]
    },
    {
     "data": {
      "text/plain": [
       "<tensorflow.python.keras.callbacks.History at 0x29b6a0128>"
      ]
     },
     "execution_count": 23,
     "metadata": {},
     "output_type": "execute_result"
    }
   ],
   "source": [
    "model_all.fit_model(gmf_model, './pretrained/training_1', n_epochs=1)"
   ]
  },
  {
   "cell_type": "code",
   "execution_count": 25,
   "metadata": {
    "collapsed": true
   },
   "outputs": [],
   "source": [
    "gmf_pred=model_all.predict('gmf', user_test_input, item_test_input)\n"
   ]
  },
  {
   "cell_type": "code",
   "execution_count": 26,
   "metadata": {
    "scrolled": true
   },
   "outputs": [
    {
     "data": {
      "text/plain": [
       "382161"
      ]
     },
     "execution_count": 26,
     "metadata": {},
     "output_type": "execute_result"
    }
   ],
   "source": [
    "cal_result(gmf_pred, label_test_input)"
   ]
  },
  {
   "cell_type": "code",
   "execution_count": 28,
   "metadata": {
    "collapsed": true
   },
   "outputs": [],
   "source": [
    "import numpy as np\n",
    "import tensorflow as tf\n",
    "from tensorflow.keras import layers\n",
    "from tensorflow.keras import Model\n",
    "from tensorflow.keras import regularizers"
   ]
  },
  {
   "cell_type": "code",
   "execution_count": 57,
   "metadata": {
    "collapsed": true
   },
   "outputs": [],
   "source": [
    "user_input_layer=layers.Input(shape=(1,), dtype='int32', name='user_input')\n",
    "item_input_layer=layers.Input(shape=(1,), dtype='int32', name='item_input')\n",
    "        \n",
    "#num_users=self.num_users\n",
    "#num_items=self.num_items\n",
    "        \n",
    "num_factors=16\n",
    "num_layers=3\n",
    "layer1_dim=num_factors*(2**(num_layers-1))\n",
    "\n",
    "\n",
    "# GMF embedding layer\n",
    "GMF_user_embedding=layers.Embedding(input_dim=num_users, output_dim=(int)(num_factors), embeddings_regularizer=regularizers.l2(0.), name='GMF_user_embedding', input_length=1)\n",
    "GMF_item_embedding=layers.Embedding(input_dim=num_items, output_dim=(int)(num_factors), embeddings_regularizer=regularizers.l2(0.), name='GMF_item_embedding', input_length=1)\n",
    "\n",
    "# MLP embedding layer\n",
    "MLP_user_embedding=layers.Embedding(input_dim=num_users, output_dim=(int)(layer1_dim/2), embeddings_regularizer=regularizers.l2(0.), name='MLP_user_embedding', input_length=1)\n",
    "MLP_item_embedding=layers.Embedding(input_dim=num_items, output_dim=(int)(layer1_dim/2), embeddings_regularizer=regularizers.l2(0.), name='MLP_item_embedding', input_length=1)\n",
    "\n",
    "#flatten GMF embedding vector\n",
    "GMF_user_latent=layers.Flatten()(GMF_user_embedding(user_input_layer))\n",
    "GMF_item_latent=layers.Flatten()(GMF_item_embedding(item_input_layer))\n",
    "\n",
    "# flatten MLP embeddding vector\n",
    "MLP_user_latent=layers.Flatten()(MLP_user_embedding(user_input_layer))\n",
    "MLP_item_latent=layers.Flatten()(MLP_item_embedding(item_input_layer))\n",
    "        \n",
    "# gmf - element wise product\n",
    "GMF_vector=layers.multiply([GMF_user_latent, GMF_item_latent])\n",
    "GMF_vector=layers.BatchNormalization()(GMF_vector)\n",
    "# 나중에 삭제해도 될 듯(잘못만든듯)\n",
    "GMF_vector=layers.Dense(128, activation='tanh')(GMF_vector)\n",
    "        \n",
    "# mlp\n",
    "MLP_vector=layers.concatenate([MLP_user_latent, MLP_item_latent])\n",
    "MLP_vector=layers.BatchNormalization()(MLP_vector)\n",
    "        \n",
    "for i in range(num_layers-1):\n",
    "    MLP_vector=layers.Dense((int)(layer1_dim/(2**i)), activation='tanh', name='layer%s' %str(i+1))(MLP_vector)\n",
    "    MLP_vector=layers.BatchNormalization()(MLP_vector)\n",
    "\n",
    "#NeuMF layer\n",
    "NeuMF_vector=layers.concatenate([GMF_vector, MLP_vector])\n",
    "prediction=layers.Dense(1, activation='tanh', name='prediction')(NeuMF_vector)\n",
    "        \n",
    "model=Model([user_input_layer, item_input_layer], prediction)\n"
   ]
  },
  {
   "cell_type": "code",
   "execution_count": 58,
   "metadata": {
    "scrolled": true
   },
   "outputs": [
    {
     "name": "stdout",
     "output_type": "stream",
     "text": [
      "Model: \"model_6\"\n",
      "__________________________________________________________________________________________________\n",
      "Layer (type)                    Output Shape         Param #     Connected to                     \n",
      "==================================================================================================\n",
      "user_input (InputLayer)         [(None, 1)]          0                                            \n",
      "__________________________________________________________________________________________________\n",
      "item_input (InputLayer)         [(None, 1)]          0                                            \n",
      "__________________________________________________________________________________________________\n",
      "MLP_user_embedding (Embedding)  (None, 1, 32)        4431808     user_input[0][0]                 \n",
      "__________________________________________________________________________________________________\n",
      "MLP_item_embedding (Embedding)  (None, 1, 32)        4175712     item_input[0][0]                 \n",
      "__________________________________________________________________________________________________\n",
      "flatten_46 (Flatten)            (None, 32)           0           MLP_user_embedding[0][0]         \n",
      "__________________________________________________________________________________________________\n",
      "flatten_47 (Flatten)            (None, 32)           0           MLP_item_embedding[0][0]         \n",
      "__________________________________________________________________________________________________\n",
      "concatenate_14 (Concatenate)    (None, 64)           0           flatten_46[0][0]                 \n",
      "                                                                 flatten_47[0][0]                 \n",
      "__________________________________________________________________________________________________\n",
      "GMF_user_embedding (Embedding)  (None, 1, 16)        2215904     user_input[0][0]                 \n",
      "__________________________________________________________________________________________________\n",
      "GMF_item_embedding (Embedding)  (None, 1, 16)        2087856     item_input[0][0]                 \n",
      "__________________________________________________________________________________________________\n",
      "batch_normalization_31 (BatchNo (None, 64)           256         concatenate_14[0][0]             \n",
      "__________________________________________________________________________________________________\n",
      "flatten_44 (Flatten)            (None, 16)           0           GMF_user_embedding[0][0]         \n",
      "__________________________________________________________________________________________________\n",
      "flatten_45 (Flatten)            (None, 16)           0           GMF_item_embedding[0][0]         \n",
      "__________________________________________________________________________________________________\n",
      "layer1 (Dense)                  (None, 64)           4160        batch_normalization_31[0][0]     \n",
      "__________________________________________________________________________________________________\n",
      "multiply_10 (Multiply)          (None, 16)           0           flatten_44[0][0]                 \n",
      "                                                                 flatten_45[0][0]                 \n",
      "__________________________________________________________________________________________________\n",
      "batch_normalization_32 (BatchNo (None, 64)           256         layer1[0][0]                     \n",
      "__________________________________________________________________________________________________\n",
      "batch_normalization_30 (BatchNo (None, 16)           64          multiply_10[0][0]                \n",
      "__________________________________________________________________________________________________\n",
      "layer2 (Dense)                  (None, 32)           2080        batch_normalization_32[0][0]     \n",
      "__________________________________________________________________________________________________\n",
      "dense_2 (Dense)                 (None, 128)          2176        batch_normalization_30[0][0]     \n",
      "__________________________________________________________________________________________________\n",
      "batch_normalization_33 (BatchNo (None, 32)           128         layer2[0][0]                     \n",
      "__________________________________________________________________________________________________\n",
      "concatenate_15 (Concatenate)    (None, 160)          0           dense_2[0][0]                    \n",
      "                                                                 batch_normalization_33[0][0]     \n",
      "__________________________________________________________________________________________________\n",
      "prediction (Dense)              (None, 1)            161         concatenate_15[0][0]             \n",
      "==================================================================================================\n",
      "Total params: 12,920,561\n",
      "Trainable params: 12,920,209\n",
      "Non-trainable params: 352\n",
      "__________________________________________________________________________________________________\n"
     ]
    }
   ],
   "source": [
    "model.summary()"
   ]
  },
  {
   "cell_type": "code",
   "execution_count": 66,
   "metadata": {
    "collapsed": true
   },
   "outputs": [],
   "source": [
    "## get weight\n",
    "#GMF embedding\n",
    "gmf_user_embedding=gmf_model.get_layer('user_embedding').get_weights()\n",
    "gmf_item_embedding=gmf_model.get_layer('item_embedding').get_weights()\n",
    "model.get_layer('GMF_user_embedding').set_weights(gmf_user_embedding)\n",
    "model.get_layer('GMF_item_embedding').set_weights(gmf_item_embedding)\n",
    "\n",
    "#MLP embedding\n",
    "mlp_user_embedding=mlp_model.get_layer('user_embedding').get_weights()\n",
    "mlp_item_embedding=mlp_model.get_layer('item_embedding').get_weights()\n",
    "model.get_layer('MLP_user_embedding').set_weights(mlp_user_embedding)\n",
    "model.get_layer('MLP_item_embedding').set_weights(mlp_item_embedding)\n",
    "        \n",
    "for i in range(num_layers-1):\n",
    "    tmp=str(i+1)\n",
    "    mlp_layer=mlp_model.get_layer('layer%s' %tmp).get_weights()\n",
    "    model.get_layer('layer%s' %tmp).set_weights(mlp_layer)\n",
    "\n",
    "#prediction layer\n",
    "gmf_prediction=gmf_model.get_layer('prediction').get_weights()\n",
    "mlp_prediction=mlp_model.get_layer('prediction').get_weights()\n",
    "        \n",
    "new_weights=np.concatenate((gmf_prediction[0], mlp_prediction[0]), axis=0)\n",
    "#new_b=gmf_prediction[1]+ mlp_prediction[1]\n",
    "model.get_layer('prediction').set_weights([0.5*new_weights, 0.5*new_b])\n"
   ]
  },
  {
   "cell_type": "code",
   "execution_count": 67,
   "metadata": {
    "scrolled": true
   },
   "outputs": [
    {
     "name": "stdout",
     "output_type": "stream",
     "text": [
      "Train on 15971866 samples\n",
      "15971840/15971866 [============================>.] - ETA: 0s - loss: 0.4765 - mae: 0.4765 - mse: 0.6179\n",
      "Epoch 00001: saving model to ./pretrained/training_1/nmf\n",
      "15971866/15971866 [==============================] - 4538s 284us/sample - loss: 0.4765 - mae: 0.4765 - mse: 0.6179\n"
     ]
    },
    {
     "data": {
      "text/plain": [
       "<tensorflow.python.keras.callbacks.History at 0x2bc4ad438>"
      ]
     },
     "execution_count": 67,
     "metadata": {},
     "output_type": "execute_result"
    }
   ],
   "source": [
    "model_all.fit_model(model, './pretrained/training_1/nmf', n_epochs=1)"
   ]
  },
  {
   "cell_type": "code",
   "execution_count": 68,
   "metadata": {
    "collapsed": true
   },
   "outputs": [],
   "source": [
    "pred_result = model.predict([np.array(user_test_input), np.array(item_test_input)]).flatten()"
   ]
  },
  {
   "cell_type": "code",
   "execution_count": 69,
   "metadata": {},
   "outputs": [
    {
     "data": {
      "text/plain": [
       "728409"
      ]
     },
     "execution_count": 69,
     "metadata": {},
     "output_type": "execute_result"
    }
   ],
   "source": [
    "cal_result(pred_result, label_test_input)"
   ]
  },
  {
   "cell_type": "code",
   "execution_count": null,
   "metadata": {
    "collapsed": true
   },
   "outputs": [],
   "source": []
  }
 ],
 "metadata": {
  "kernelspec": {
   "display_name": "tensorflow",
   "language": "python",
   "name": "env"
  },
  "language_info": {
   "codemirror_mode": {
    "name": "ipython",
    "version": 3
   },
   "file_extension": ".py",
   "mimetype": "text/x-python",
   "name": "python",
   "nbconvert_exporter": "python",
   "pygments_lexer": "ipython3",
   "version": "3.7.0"
  }
 },
 "nbformat": 4,
 "nbformat_minor": 2
}
