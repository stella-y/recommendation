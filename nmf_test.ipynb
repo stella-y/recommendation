{
 "cells": [
  {
   "cell_type": "code",
   "execution_count": 2,
   "metadata": {
    "collapsed": true
   },
   "outputs": [],
   "source": [
    "import pandas as pd"
   ]
  },
  {
   "cell_type": "code",
   "execution_count": 3,
   "metadata": {
    "collapsed": true
   },
   "outputs": [],
   "source": [
    "train_data=pd.read_csv(\"../datasets/assignment/train_set.csv\")\n",
    "test_data=pd.read_csv(\"../datasets/assignment/test_set.csv\")"
   ]
  },
  {
   "cell_type": "code",
   "execution_count": 4,
   "metadata": {},
   "outputs": [
    {
     "data": {
      "text/html": [
       "<div>\n",
       "<style scoped>\n",
       "    .dataframe tbody tr th:only-of-type {\n",
       "        vertical-align: middle;\n",
       "    }\n",
       "\n",
       "    .dataframe tbody tr th {\n",
       "        vertical-align: top;\n",
       "    }\n",
       "\n",
       "    .dataframe thead th {\n",
       "        text-align: right;\n",
       "    }\n",
       "</style>\n",
       "<table border=\"1\" class=\"dataframe\">\n",
       "  <thead>\n",
       "    <tr style=\"text-align: right;\">\n",
       "      <th></th>\n",
       "      <th>userId</th>\n",
       "      <th>movieId</th>\n",
       "      <th>t</th>\n",
       "      <th>rating</th>\n",
       "      <th>preference</th>\n",
       "    </tr>\n",
       "  </thead>\n",
       "  <tbody>\n",
       "    <tr>\n",
       "      <th>0</th>\n",
       "      <td>31231</td>\n",
       "      <td>1193</td>\n",
       "      <td>2001-03-14</td>\n",
       "      <td>5.0</td>\n",
       "      <td>1.0</td>\n",
       "    </tr>\n",
       "    <tr>\n",
       "      <th>1</th>\n",
       "      <td>32077</td>\n",
       "      <td>1284</td>\n",
       "      <td>1999-11-02</td>\n",
       "      <td>4.0</td>\n",
       "      <td>1.0</td>\n",
       "    </tr>\n",
       "    <tr>\n",
       "      <th>2</th>\n",
       "      <td>37618</td>\n",
       "      <td>368</td>\n",
       "      <td>2008-01-25</td>\n",
       "      <td>3.0</td>\n",
       "      <td>0.0</td>\n",
       "    </tr>\n",
       "    <tr>\n",
       "      <th>3</th>\n",
       "      <td>76002</td>\n",
       "      <td>490</td>\n",
       "      <td>1996-07-04</td>\n",
       "      <td>4.0</td>\n",
       "      <td>1.0</td>\n",
       "    </tr>\n",
       "    <tr>\n",
       "      <th>4</th>\n",
       "      <td>79452</td>\n",
       "      <td>2132</td>\n",
       "      <td>2012-05-16</td>\n",
       "      <td>3.0</td>\n",
       "      <td>0.0</td>\n",
       "    </tr>\n",
       "    <tr>\n",
       "      <th>...</th>\n",
       "      <td>...</td>\n",
       "      <td>...</td>\n",
       "      <td>...</td>\n",
       "      <td>...</td>\n",
       "      <td>...</td>\n",
       "    </tr>\n",
       "    <tr>\n",
       "      <th>15971861</th>\n",
       "      <td>127704</td>\n",
       "      <td>3505</td>\n",
       "      <td>2000-03-30</td>\n",
       "      <td>4.0</td>\n",
       "      <td>1.0</td>\n",
       "    </tr>\n",
       "    <tr>\n",
       "      <th>15971862</th>\n",
       "      <td>125972</td>\n",
       "      <td>1242</td>\n",
       "      <td>1999-12-14</td>\n",
       "      <td>4.0</td>\n",
       "      <td>1.0</td>\n",
       "    </tr>\n",
       "    <tr>\n",
       "      <th>15971863</th>\n",
       "      <td>64040</td>\n",
       "      <td>434</td>\n",
       "      <td>1996-11-19</td>\n",
       "      <td>3.0</td>\n",
       "      <td>1.0</td>\n",
       "    </tr>\n",
       "    <tr>\n",
       "      <th>15971864</th>\n",
       "      <td>105127</td>\n",
       "      <td>356</td>\n",
       "      <td>2013-02-18</td>\n",
       "      <td>4.0</td>\n",
       "      <td>1.0</td>\n",
       "    </tr>\n",
       "    <tr>\n",
       "      <th>15971865</th>\n",
       "      <td>72983</td>\n",
       "      <td>1887</td>\n",
       "      <td>2003-11-18</td>\n",
       "      <td>1.5</td>\n",
       "      <td>-1.0</td>\n",
       "    </tr>\n",
       "  </tbody>\n",
       "</table>\n",
       "<p>15971866 rows × 5 columns</p>\n",
       "</div>"
      ],
      "text/plain": [
       "          userId  movieId           t  rating  preference\n",
       "0          31231     1193  2001-03-14     5.0         1.0\n",
       "1          32077     1284  1999-11-02     4.0         1.0\n",
       "2          37618      368  2008-01-25     3.0         0.0\n",
       "3          76002      490  1996-07-04     4.0         1.0\n",
       "4          79452     2132  2012-05-16     3.0         0.0\n",
       "...          ...      ...         ...     ...         ...\n",
       "15971861  127704     3505  2000-03-30     4.0         1.0\n",
       "15971862  125972     1242  1999-12-14     4.0         1.0\n",
       "15971863   64040      434  1996-11-19     3.0         1.0\n",
       "15971864  105127      356  2013-02-18     4.0         1.0\n",
       "15971865   72983     1887  2003-11-18     1.5        -1.0\n",
       "\n",
       "[15971866 rows x 5 columns]"
      ]
     },
     "execution_count": 4,
     "metadata": {},
     "output_type": "execute_result"
    }
   ],
   "source": [
    "train_data"
   ]
  },
  {
   "cell_type": "code",
   "execution_count": 5,
   "metadata": {},
   "outputs": [
    {
     "data": {
      "text/html": [
       "<div>\n",
       "<style scoped>\n",
       "    .dataframe tbody tr th:only-of-type {\n",
       "        vertical-align: middle;\n",
       "    }\n",
       "\n",
       "    .dataframe tbody tr th {\n",
       "        vertical-align: top;\n",
       "    }\n",
       "\n",
       "    .dataframe thead th {\n",
       "        text-align: right;\n",
       "    }\n",
       "</style>\n",
       "<table border=\"1\" class=\"dataframe\">\n",
       "  <thead>\n",
       "    <tr style=\"text-align: right;\">\n",
       "      <th></th>\n",
       "      <th>userId</th>\n",
       "      <th>movieId</th>\n",
       "      <th>t</th>\n",
       "      <th>preference</th>\n",
       "    </tr>\n",
       "  </thead>\n",
       "  <tbody>\n",
       "    <tr>\n",
       "      <th>0</th>\n",
       "      <td>118853</td>\n",
       "      <td>4232</td>\n",
       "      <td>2002-10-11</td>\n",
       "      <td>0.0</td>\n",
       "    </tr>\n",
       "    <tr>\n",
       "      <th>1</th>\n",
       "      <td>1734</td>\n",
       "      <td>1701</td>\n",
       "      <td>2015-02-03</td>\n",
       "      <td>1.0</td>\n",
       "    </tr>\n",
       "    <tr>\n",
       "      <th>2</th>\n",
       "      <td>65850</td>\n",
       "      <td>535</td>\n",
       "      <td>2002-07-16</td>\n",
       "      <td>0.0</td>\n",
       "    </tr>\n",
       "    <tr>\n",
       "      <th>3</th>\n",
       "      <td>99208</td>\n",
       "      <td>6832</td>\n",
       "      <td>2005-04-13</td>\n",
       "      <td>1.0</td>\n",
       "    </tr>\n",
       "    <tr>\n",
       "      <th>4</th>\n",
       "      <td>133444</td>\n",
       "      <td>318</td>\n",
       "      <td>2000-12-08</td>\n",
       "      <td>1.0</td>\n",
       "    </tr>\n",
       "    <tr>\n",
       "      <th>...</th>\n",
       "      <td>...</td>\n",
       "      <td>...</td>\n",
       "      <td>...</td>\n",
       "      <td>...</td>\n",
       "    </tr>\n",
       "    <tr>\n",
       "      <th>3992962</th>\n",
       "      <td>69753</td>\n",
       "      <td>367</td>\n",
       "      <td>2008-03-14</td>\n",
       "      <td>-1.0</td>\n",
       "    </tr>\n",
       "    <tr>\n",
       "      <th>3992963</th>\n",
       "      <td>50421</td>\n",
       "      <td>1961</td>\n",
       "      <td>2007-06-06</td>\n",
       "      <td>0.0</td>\n",
       "    </tr>\n",
       "    <tr>\n",
       "      <th>3992964</th>\n",
       "      <td>101721</td>\n",
       "      <td>372</td>\n",
       "      <td>1997-05-11</td>\n",
       "      <td>0.0</td>\n",
       "    </tr>\n",
       "    <tr>\n",
       "      <th>3992965</th>\n",
       "      <td>80928</td>\n",
       "      <td>2469</td>\n",
       "      <td>2001-07-16</td>\n",
       "      <td>-1.0</td>\n",
       "    </tr>\n",
       "    <tr>\n",
       "      <th>3992966</th>\n",
       "      <td>8190</td>\n",
       "      <td>147</td>\n",
       "      <td>1997-07-19</td>\n",
       "      <td>1.0</td>\n",
       "    </tr>\n",
       "  </tbody>\n",
       "</table>\n",
       "<p>3992967 rows × 4 columns</p>\n",
       "</div>"
      ],
      "text/plain": [
       "         userId  movieId           t  preference\n",
       "0        118853     4232  2002-10-11         0.0\n",
       "1          1734     1701  2015-02-03         1.0\n",
       "2         65850      535  2002-07-16         0.0\n",
       "3         99208     6832  2005-04-13         1.0\n",
       "4        133444      318  2000-12-08         1.0\n",
       "...         ...      ...         ...         ...\n",
       "3992962   69753      367  2008-03-14        -1.0\n",
       "3992963   50421     1961  2007-06-06         0.0\n",
       "3992964  101721      372  1997-05-11         0.0\n",
       "3992965   80928     2469  2001-07-16        -1.0\n",
       "3992966    8190      147  1997-07-19         1.0\n",
       "\n",
       "[3992967 rows x 4 columns]"
      ]
     },
     "execution_count": 5,
     "metadata": {},
     "output_type": "execute_result"
    }
   ],
   "source": [
    "test_data"
   ]
  },
  {
   "cell_type": "code",
   "execution_count": 6,
   "metadata": {
    "scrolled": true
   },
   "outputs": [
    {
     "data": {
      "text/plain": [
       "array([ 1.,  0., -1.])"
      ]
     },
     "execution_count": 6,
     "metadata": {},
     "output_type": "execute_result"
    }
   ],
   "source": [
    "train_data.preference.unique()"
   ]
  },
  {
   "cell_type": "code",
   "execution_count": 7,
   "metadata": {
    "collapsed": true
   },
   "outputs": [],
   "source": [
    "user_train_input=train_data['userId'].values.tolist()\n",
    "user_test_input=test_data['userId'].values.tolist()"
   ]
  },
  {
   "cell_type": "code",
   "execution_count": 8,
   "metadata": {
    "collapsed": true
   },
   "outputs": [],
   "source": [
    "item_train_input=train_data['movieId'].values.tolist()\n",
    "item_test_input=test_data['movieId'].values.tolist()\n"
   ]
  },
  {
   "cell_type": "code",
   "execution_count": 9,
   "metadata": {
    "collapsed": true
   },
   "outputs": [],
   "source": [
    "label_train_input=train_data['preference'].values.tolist()\n",
    "label_test_input=test_data['preference'].values.tolist()"
   ]
  },
  {
   "cell_type": "code",
   "execution_count": 10,
   "metadata": {},
   "outputs": [
    {
     "name": "stdout",
     "output_type": "stream",
     "text": [
      "user_train_input_len: 15971866\n",
      "user_train_input_max: 138493\n",
      "train_user_id_unique: 138493\n",
      "item_train_input_len: 15971866\n",
      "item_train_input_max: 130490\n",
      "train_item_id_unique: 15451\n"
     ]
    }
   ],
   "source": [
    "print(\"user_train_input_len: \" +str(len(user_train_input)))\n",
    "print(\"user_train_input_max: \"+str(max(user_train_input)))\n",
    "print(\"train_user_id_unique: \"+str(len(train_data.userId.unique())))\n",
    "print(\"item_train_input_len: \" +str(len(item_train_input)))\n",
    "print(\"item_train_input_max: \"+str(max(item_train_input)))\n",
    "print(\"train_item_id_unique: \"+str(len(train_data.movieId.unique())))"
   ]
  },
  {
   "cell_type": "code",
   "execution_count": 11,
   "metadata": {
    "scrolled": true
   },
   "outputs": [
    {
     "name": "stdout",
     "output_type": "stream",
     "text": [
      "user_test_input_len: 3992967\n",
      "user_test_input_max: 138493\n",
      "test_user_id_unique: 138325\n",
      "item_test_input_len: 3992967\n",
      "item_test_input_max: 130490\n",
      "test_item_id_unique: 15343\n"
     ]
    }
   ],
   "source": [
    "print(\"user_test_input_len: \" +str(len(user_test_input)))\n",
    "print(\"user_test_input_max: \"+str(max(user_test_input)))\n",
    "print(\"test_user_id_unique: \"+str(len(test_data.userId.unique())))\n",
    "print(\"item_test_input_len: \" +str(len(item_test_input)))\n",
    "print(\"item_test_input_max: \"+str(max(item_test_input)))\n",
    "print(\"test_item_id_unique: \"+str(len(test_data.movieId.unique())))"
   ]
  },
  {
   "cell_type": "code",
   "execution_count": 12,
   "metadata": {
    "collapsed": true
   },
   "outputs": [],
   "source": [
    "num_users=len(train_data.userId.unique())\n",
    "num_items=len(train_data.movieId.unique())"
   ]
  },
  {
   "cell_type": "code",
   "execution_count": 13,
   "metadata": {
    "collapsed": true
   },
   "outputs": [],
   "source": [
    "num_users=len(train_data.userId.unique())+1\n",
    "num_items=max(item_train_input)+1"
   ]
  },
  {
   "cell_type": "code",
   "execution_count": 14,
   "metadata": {},
   "outputs": [
    {
     "name": "stdout",
     "output_type": "stream",
     "text": [
      "138494\n",
      "130491\n"
     ]
    }
   ],
   "source": [
    "print(num_users)\n",
    "print(num_items)"
   ]
  },
  {
   "cell_type": "code",
   "execution_count": 15,
   "metadata": {
    "collapsed": true
   },
   "outputs": [],
   "source": [
    "num_factors=16"
   ]
  },
  {
   "cell_type": "code",
   "execution_count": 16,
   "metadata": {
    "collapsed": true
   },
   "outputs": [],
   "source": [
    "import tensorflow as tf\n",
    "from tensorflow.keras import layers\n",
    "from tensorflow.keras import Model\n",
    "from tensorflow.keras import regularizers\n",
    "\n"
   ]
  },
  {
   "cell_type": "code",
   "execution_count": 19,
   "metadata": {},
   "outputs": [],
   "source": [
    "# input layer\n",
    "user_input_layer=layers.Input(shape=(1,), dtype='int32', name='user_input')\n",
    "item_input_layer=layers.Input(shape=(1,), dtype='int32', name='item_input')\n",
    "\n",
    "# embedding layer\n",
    "user_embedding_layer=layers.Embedding(input_dim=num_users, \n",
    "                               output_dim=num_factors, \n",
    "                               embeddings_regularizer=regularizers.l2(0.),\n",
    "                               name='user_embedding'\n",
    "                              )(user_input_layer)\n",
    "item_embedding_layer=layers.Embedding(input_dim=num_items, \n",
    "                               output_dim=num_factors, \n",
    "                               embeddings_regularizer=regularizers.l2(0.),\n",
    "                               name='item_embedding'\n",
    "                              )(item_input_layer)\n",
    "\n",
    "# flatten embedding vector\n",
    "user_latent=layers.Flatten()(user_embedding_layer)\n",
    "item_latent=layers.Flatten()(item_embedding_layer)\n",
    "\n",
    "# element wise product\n",
    "ew_product=layers.multiply([user_latent, item_latent])\n",
    "ew_product=layers.BatchNormalization()(ew_product)\n",
    "\n",
    "dense=layers.Dense(128, activation='relu')(ew_product)\n",
    "prediction=layers.Dense(1, activation='sigmoid', name='prediction')(dense)\n",
    "\n",
    "model=Model([user_input_layer, item_input_layer], prediction)\n"
   ]
  },
  {
   "cell_type": "code",
   "execution_count": 20,
   "metadata": {
    "scrolled": false
   },
   "outputs": [
    {
     "name": "stdout",
     "output_type": "stream",
     "text": [
      "Model: \"model\"\n",
      "__________________________________________________________________________________________________\n",
      "Layer (type)                    Output Shape         Param #     Connected to                     \n",
      "==================================================================================================\n",
      "user_input (InputLayer)         [(None, 1)]          0                                            \n",
      "__________________________________________________________________________________________________\n",
      "item_input (InputLayer)         [(None, 1)]          0                                            \n",
      "__________________________________________________________________________________________________\n",
      "user_embedding (Embedding)      (None, 1, 16)        2215904     user_input[0][0]                 \n",
      "__________________________________________________________________________________________________\n",
      "item_embedding (Embedding)      (None, 1, 16)        2087856     item_input[0][0]                 \n",
      "__________________________________________________________________________________________________\n",
      "flatten (Flatten)               (None, 16)           0           user_embedding[0][0]             \n",
      "__________________________________________________________________________________________________\n",
      "flatten_1 (Flatten)             (None, 16)           0           item_embedding[0][0]             \n",
      "__________________________________________________________________________________________________\n",
      "multiply (Multiply)             (None, 16)           0           flatten[0][0]                    \n",
      "                                                                 flatten_1[0][0]                  \n",
      "__________________________________________________________________________________________________\n",
      "batch_normalization (BatchNorma (None, 16)           64          multiply[0][0]                   \n",
      "__________________________________________________________________________________________________\n",
      "dense (Dense)                   (None, 128)          2176        batch_normalization[0][0]        \n",
      "__________________________________________________________________________________________________\n",
      "prediction (Dense)              (None, 1)            129         dense[0][0]                      \n",
      "==================================================================================================\n",
      "Total params: 4,306,129\n",
      "Trainable params: 4,306,097\n",
      "Non-trainable params: 32\n",
      "__________________________________________________________________________________________________\n"
     ]
    }
   ],
   "source": [
    "model.summary()"
   ]
  },
  {
   "cell_type": "code",
   "execution_count": 21,
   "metadata": {
    "collapsed": true
   },
   "outputs": [],
   "source": [
    "import numpy as np"
   ]
  },
  {
   "cell_type": "code",
   "execution_count": 25,
   "metadata": {},
   "outputs": [],
   "source": [
    "model.compile(loss='mse',\n",
    "              optimizer='adam',\n",
    "              metrics=['mae', 'mse'])\n"
   ]
  },
  {
   "cell_type": "code",
   "execution_count": 28,
   "metadata": {
    "collapsed": true
   },
   "outputs": [],
   "source": [
    "import os"
   ]
  },
  {
   "cell_type": "code",
   "execution_count": null,
   "metadata": {
    "collapsed": true
   },
   "outputs": [],
   "source": [
    "from sklearn.model_selection import KFold\n",
    "n_split=3\n",
    "for train_index,test_index in KFold(n_split).split(X):\n",
    "    user_train, user_validation=user_train_input[train_index], user_train_input[test_index]\n",
    "    item_train, item_validation=item_train_input[train_index], item_train_input[test_index]\n",
    "    label_train, label_validation=label_train_input[train_index], label_train_input[test_index]\n",
    "    "
   ]
  },
  {
   "cell_type": "code",
   "execution_count": 29,
   "metadata": {},
   "outputs": [],
   "source": [
    "checkpoint_path=\"training_1/cp.ckpt\"\n",
    "checkpoint_dir = os.path.dirname(checkpoint_path)\n",
    "# 체크포인트 콜백 만들기\n",
    "cp_callback = tf.keras.callbacks.ModelCheckpoint(checkpoint_path,\n",
    "                                                 save_weights_only=True,\n",
    "                                                 verbose=1)\n"
   ]
  },
  {
   "cell_type": "code",
   "execution_count": 30,
   "metadata": {
    "scrolled": true
   },
   "outputs": [
    {
     "name": "stdout",
     "output_type": "stream",
     "text": [
      "Train on 15971866 samples\n",
      "15971328/15971866 [============================>.] - ETA: 0s - loss: 0.4800 - mae: 0.5483 - mse: 0.4800\n",
      "Epoch 00001: saving model to training_1/cp.ckpt\n",
      "15971866/15971866 [==============================] - 911s 57us/sample - loss: 0.4800 - mae: 0.5483 - mse: 0.4800\n"
     ]
    }
   ],
   "source": [
    "history=model.fit([np.array(user_train_input), np.array(item_train_input)], \n",
    "                  np.array(label_train_input),\n",
    "                  batch_size=512,\n",
    "                  epochs=1,\n",
    "                  callbacks = [cp_callback]\n",
    "                 )\n",
    "\n"
   ]
  },
  {
   "cell_type": "code",
   "execution_count": 32,
   "metadata": {
    "scrolled": true
   },
   "outputs": [
    {
     "data": {
      "text/html": [
       "<div>\n",
       "<style scoped>\n",
       "    .dataframe tbody tr th:only-of-type {\n",
       "        vertical-align: middle;\n",
       "    }\n",
       "\n",
       "    .dataframe tbody tr th {\n",
       "        vertical-align: top;\n",
       "    }\n",
       "\n",
       "    .dataframe thead th {\n",
       "        text-align: right;\n",
       "    }\n",
       "</style>\n",
       "<table border=\"1\" class=\"dataframe\">\n",
       "  <thead>\n",
       "    <tr style=\"text-align: right;\">\n",
       "      <th></th>\n",
       "      <th>loss</th>\n",
       "      <th>mae</th>\n",
       "      <th>mse</th>\n",
       "      <th>epoch</th>\n",
       "    </tr>\n",
       "  </thead>\n",
       "  <tbody>\n",
       "    <tr>\n",
       "      <th>0</th>\n",
       "      <td>0.479969</td>\n",
       "      <td>0.548295</td>\n",
       "      <td>0.479971</td>\n",
       "      <td>0</td>\n",
       "    </tr>\n",
       "  </tbody>\n",
       "</table>\n",
       "</div>"
      ],
      "text/plain": [
       "       loss       mae       mse  epoch\n",
       "0  0.479969  0.548295  0.479971      0"
      ]
     },
     "execution_count": 32,
     "metadata": {},
     "output_type": "execute_result"
    }
   ],
   "source": [
    "hist = pd.DataFrame(history.history)\n",
    "hist['epoch'] = history.epoch\n",
    "hist.tail()"
   ]
  },
  {
   "cell_type": "code",
   "execution_count": 33,
   "metadata": {
    "scrolled": true
   },
   "outputs": [
    {
     "name": "stdout",
     "output_type": "stream",
     "text": [
      "3992967/3992967 [==============================] - 69s 17us/sample - loss: 0.4834 - mae: 0.5441 - mse: 0.4834\n"
     ]
    }
   ],
   "source": [
    "loss, mae, mse = model.evaluate([np.array(user_test_input), np.array(item_test_input)], \n",
    "                  np.array(label_test_input))\n"
   ]
  },
  {
   "cell_type": "code",
   "execution_count": 34,
   "metadata": {
    "collapsed": true
   },
   "outputs": [],
   "source": [
    "test_predictions = model.predict([np.array(user_test_input), np.array(item_test_input)]).flatten()"
   ]
  },
  {
   "cell_type": "code",
   "execution_count": 49,
   "metadata": {},
   "outputs": [
    {
     "name": "stdout",
     "output_type": "stream",
     "text": [
      "[0.00994352 0.6641173  0.8784303  ... 0.20310688 0.10685118 0.6061107 ]\n"
     ]
    }
   ],
   "source": [
    "print(str(test_predictions))"
   ]
  },
  {
   "cell_type": "code",
   "execution_count": 50,
   "metadata": {},
   "outputs": [
    {
     "data": {
      "text/plain": [
       "9.040562e-11"
      ]
     },
     "execution_count": 50,
     "metadata": {},
     "output_type": "execute_result"
    }
   ],
   "source": [
    "min(test_predictions)"
   ]
  },
  {
   "cell_type": "code",
   "execution_count": 52,
   "metadata": {},
   "outputs": [
    {
     "data": {
      "text/plain": [
       "-1.0"
      ]
     },
     "execution_count": 52,
     "metadata": {},
     "output_type": "execute_result"
    }
   ],
   "source": [
    "min(label_train_input)"
   ]
  },
  {
   "cell_type": "code",
   "execution_count": 51,
   "metadata": {},
   "outputs": [
    {
     "data": {
      "text/plain": [
       "-1.0"
      ]
     },
     "execution_count": 51,
     "metadata": {},
     "output_type": "execute_result"
    }
   ],
   "source": [
    "min(label_test_input)"
   ]
  },
  {
   "cell_type": "code",
   "execution_count": 48,
   "metadata": {
    "scrolled": true
   },
   "outputs": [
    {
     "name": "stdout",
     "output_type": "stream",
     "text": [
      "[0.00994352 0.6641173  0.8784303  ... 0.20310688 0.10685118 0.6061107 ]\n"
     ]
    }
   ],
   "source": [
    "print(test_predictions)"
   ]
  },
  {
   "cell_type": "code",
   "execution_count": 43,
   "metadata": {},
   "outputs": [],
   "source": [
    "ans=0\n",
    "for i in range(len(test_predictions)):\n",
    "    if label_test_input==0:\n",
    "        continue\n",
    "    elif label_test_input[i]==1 and test_predictions[i]>0:\n",
    "        ans+=1\n",
    "    elif label_test_input[i]==-1 and test_predictions[i]<0:\n",
    "        ans+=1\n",
    "    else:\n",
    "        ans-=1\n",
    "    "
   ]
  },
  {
   "cell_type": "code",
   "execution_count": 44,
   "metadata": {},
   "outputs": [
    {
     "name": "stdout",
     "output_type": "stream",
     "text": [
      "382161\n"
     ]
    }
   ],
   "source": [
    "print(ans)"
   ]
  },
  {
   "cell_type": "code",
   "execution_count": 36,
   "metadata": {
    "collapsed": true
   },
   "outputs": [],
   "source": [
    "import matplotlib.pyplot as plt"
   ]
  },
  {
   "cell_type": "code",
   "execution_count": 37,
   "metadata": {},
   "outputs": [
    {
     "data": {
      "image/png": "[encoded data removed]",
      "text/plain": [
       "<Figure size 432x288 with 1 Axes>"
      ]
     },
     "metadata": {
      "needs_background": "light"
     },
     "output_type": "display_data"
    }
   ],
   "source": [
    "plt.scatter(label_test_input, test_predictions)\n",
    "plt.xlabel('True Values [MPG]')\n",
    "plt.ylabel('Predictions [MPG]')\n",
    "plt.axis('equal')\n",
    "plt.axis('square')\n",
    "plt.xlim([0,plt.xlim()[1]])\n",
    "plt.ylim([0,plt.ylim()[1]])\n",
    "_ = plt.plot([-100, 100], [-100, 100])"
   ]
  },
  {
   "cell_type": "code",
   "execution_count": null,
   "metadata": {
    "collapsed": true
   },
   "outputs": [],
   "source": [
    "class model_all(object):\n",
    "    def model_fit(self, model, n_batch_size=256, n_epochs=5):\n",
    "        num_factors=self.num_factors\n",
    "        model=self.model\n",
    "        "
   ]
  }
 ],
 "metadata": {
  "kernelspec": {
   "display_name": "tensorflow",
   "language": "python",
   "name": "env"
  },
  "language_info": {
   "codemirror_mode": {
    "name": "ipython",
    "version": 3
   },
   "file_extension": ".py",
   "mimetype": "text/x-python",
   "name": "python",
   "nbconvert_exporter": "python",
   "pygments_lexer": "ipython3",
   "version": "3.7.0"
  }
 },
 "nbformat": 4,
 "nbformat_minor": 2
}
