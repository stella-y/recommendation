{
 "cells": [
  {
   "cell_type": "code",
   "execution_count": 1,
   "metadata": {},
   "outputs": [
    {
     "name": "stderr",
     "output_type": "stream",
     "text": [
      "/Users/kakao/anaconda/anaconda/lib/python3.6/site-packages/tensorflow/python/framework/dtypes.py:526: FutureWarning: Passing (type, 1) or '1type' as a synonym of type is deprecated; in a future version of numpy, it will be understood as (type, (1,)) / '(1,)type'.\n",
      "  _np_qint8 = np.dtype([(\"qint8\", np.int8, 1)])\n",
      "/Users/kakao/anaconda/anaconda/lib/python3.6/site-packages/tensorflow/python/framework/dtypes.py:527: FutureWarning: Passing (type, 1) or '1type' as a synonym of type is deprecated; in a future version of numpy, it will be understood as (type, (1,)) / '(1,)type'.\n",
      "  _np_quint8 = np.dtype([(\"quint8\", np.uint8, 1)])\n",
      "/Users/kakao/anaconda/anaconda/lib/python3.6/site-packages/tensorflow/python/framework/dtypes.py:528: FutureWarning: Passing (type, 1) or '1type' as a synonym of type is deprecated; in a future version of numpy, it will be understood as (type, (1,)) / '(1,)type'.\n",
      "  _np_qint16 = np.dtype([(\"qint16\", np.int16, 1)])\n",
      "/Users/kakao/anaconda/anaconda/lib/python3.6/site-packages/tensorflow/python/framework/dtypes.py:529: FutureWarning: Passing (type, 1) or '1type' as a synonym of type is deprecated; in a future version of numpy, it will be understood as (type, (1,)) / '(1,)type'.\n",
      "  _np_quint16 = np.dtype([(\"quint16\", np.uint16, 1)])\n",
      "/Users/kakao/anaconda/anaconda/lib/python3.6/site-packages/tensorflow/python/framework/dtypes.py:530: FutureWarning: Passing (type, 1) or '1type' as a synonym of type is deprecated; in a future version of numpy, it will be understood as (type, (1,)) / '(1,)type'.\n",
      "  _np_qint32 = np.dtype([(\"qint32\", np.int32, 1)])\n",
      "/Users/kakao/anaconda/anaconda/lib/python3.6/site-packages/tensorflow/python/framework/dtypes.py:535: FutureWarning: Passing (type, 1) or '1type' as a synonym of type is deprecated; in a future version of numpy, it will be understood as (type, (1,)) / '(1,)type'.\n",
      "  np_resource = np.dtype([(\"resource\", np.ubyte, 1)])\n"
     ]
    }
   ],
   "source": [
    "import pandas as pd\n",
    "import numpy as np\n",
    "import tensorflow as tf\n",
    "import pickle"
   ]
  },
  {
   "cell_type": "code",
   "execution_count": 2,
   "metadata": {
    "collapsed": true
   },
   "outputs": [],
   "source": [
    "train_data=pd.read_csv(\"../datasets/assignment/train_set.csv\")\n",
    "test_data=pd.read_csv(\"../datasets/assignment/test_set.csv\")\n",
    "genre_data=pd.read_csv(\"../datasets/assignment/ml-20m/movies.csv\")"
   ]
  },
  {
   "cell_type": "code",
   "execution_count": 3,
   "metadata": {
    "collapsed": true
   },
   "outputs": [],
   "source": [
    "def separate(x):\n",
    "    if x=='(no genres listed)':\n",
    "        return []\n",
    "    return x.split('|')"
   ]
  },
  {
   "cell_type": "code",
   "execution_count": 4,
   "metadata": {
    "collapsed": true
   },
   "outputs": [],
   "source": [
    "def get_genre_val(indexer, x):\n",
    "    val_list=[]\n",
    "    for i, g in enumerate(indexer):\n",
    "        if g in x:\n",
    "            val_list.append(i+1)\n",
    "    if len(val_list)==0:\n",
    "        return [0]\n",
    "    else:\n",
    "        return val_list\n"
   ]
  },
  {
   "cell_type": "code",
   "execution_count": 6,
   "metadata": {
    "collapsed": true
   },
   "outputs": [],
   "source": [
    "genre_data['sep_gen']=[separate(g) for g in genre_data['genres']]"
   ]
  },
  {
   "cell_type": "code",
   "execution_count": 7,
   "metadata": {},
   "outputs": [],
   "source": [
    "genre=set()\n",
    "for gl in genre_data['sep_gen']:\n",
    "    for g in gl:\n",
    "        genre.add(g)"
   ]
  },
  {
   "cell_type": "code",
   "execution_count": 8,
   "metadata": {
    "collapsed": true
   },
   "outputs": [],
   "source": [
    "genre_data['gen_value_list']=[get_genre_val(genre, g) for g in genre_data['sep_gen']]"
   ]
  },
  {
   "cell_type": "code",
   "execution_count": 9,
   "metadata": {
    "collapsed": true
   },
   "outputs": [],
   "source": [
    "genreTrainVector=pd.merge(train_data['movieId'],\n",
    "                     genre_data[['movieId', 'gen_value_list']],\n",
    "                     left_on='movieId', right_on='movieId',\n",
    "                     how='left'\n",
    "                    )"
   ]
  },
  {
   "cell_type": "code",
   "execution_count": 10,
   "metadata": {
    "collapsed": true
   },
   "outputs": [],
   "source": [
    "genderTestVector=pd.merge(test_data['movieId'],\n",
    "                     genre_data[['movieId', 'gen_value_list']],\n",
    "                     left_on='movieId', right_on='movieId',\n",
    "                     how='left'\n",
    "                    )"
   ]
  },
  {
   "cell_type": "code",
   "execution_count": 11,
   "metadata": {
    "collapsed": true
   },
   "outputs": [],
   "source": [
    "genre_train_input=genreTrainVector['gen_value_list']\n",
    "genre_train_input=tf.keras.preprocessing.sequence.pad_sequences(genre_train_input, padding='post')"
   ]
  },
  {
   "cell_type": "code",
   "execution_count": 12,
   "metadata": {
    "collapsed": true
   },
   "outputs": [],
   "source": [
    "genre_test_input=genderTestVector['gen_value_list']\n",
    "genre_test_input=tf.keras.preprocessing.sequence.pad_sequences(genre_test_input, padding='post')"
   ]
  },
  {
   "cell_type": "code",
   "execution_count": 13,
   "metadata": {
    "collapsed": true
   },
   "outputs": [],
   "source": [
    "user_train_input=train_data['userId'].values.tolist()\n",
    "user_test_input=test_data['userId'].values.tolist()\n",
    "\n",
    "item_train_input=train_data['movieId'].values.tolist()\n",
    "item_test_input=test_data['movieId'].values.tolist()\n",
    "\n",
    "label_train_input=train_data['preference'].values.tolist()\n",
    "label_test_input=test_data['preference'].values.tolist()"
   ]
  },
  {
   "cell_type": "code",
   "execution_count": 15,
   "metadata": {},
   "outputs": [],
   "source": [
    "with open(\"./pickle_dump/user_train_input.pickle\", \"wb\") as fw:\n",
    "    pickle.dump(user_train_input, fw)\n",
    "with open(\"./pickle_dump/user_test_input.pickle\", \"wb\") as fw:\n",
    "    pickle.dump(user_test_input, fw)\n",
    "with open(\"./pickle_dump/item_train_input.pickle\", \"wb\") as fw:\n",
    "    pickle.dump(item_train_input, fw)\n",
    "with open(\"./pickle_dump/item_test_input.pickle\", \"wb\") as fw:\n",
    "    pickle.dump(item_test_input, fw)\n",
    "with open(\"./pickle_dump/label_train_input.pickle\", \"wb\") as fw:\n",
    "    pickle.dump(label_train_input, fw)\n",
    "with open(\"./pickle_dump/label_test_input.pickle\", \"wb\") as fw:\n",
    "    pickle.dump(label_test_input, fw)\n",
    "with open(\"./pickle_dump/genre_train_input.pickle\", \"wb\") as fw:\n",
    "    pickle.dump(genre_train_input, fw)\n",
    "with open(\"./pickle_dump/genre_test_input.pickle\", \"wb\") as fw:\n",
    "    pickle.dump(genre_test_input, fw)\n",
    "    "
   ]
  },
  {
   "cell_type": "code",
   "execution_count": null,
   "metadata": {
    "collapsed": true
   },
   "outputs": [],
   "source": []
  }
 ],
 "metadata": {
  "kernelspec": {
   "display_name": "Python 3",
   "language": "python",
   "name": "python3"
  },
  "language_info": {
   "codemirror_mode": {
    "name": "ipython",
    "version": 3
   },
   "file_extension": ".py",
   "mimetype": "text/x-python",
   "name": "python",
   "nbconvert_exporter": "python",
   "pygments_lexer": "ipython3",
   "version": "3.6.10"
  }
 },
 "nbformat": 4,
 "nbformat_minor": 4
}
