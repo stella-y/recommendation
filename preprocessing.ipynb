{
 "cells": [
  {
   "cell_type": "code",
   "execution_count": 21,
   "metadata": {},
   "outputs": [],
   "source": [
    "import pandas as pd\n",
    "import numpy as np\n",
    "import tensorflow as tf\n",
    "import pickle"
   ]
  },
  {
   "cell_type": "code",
   "execution_count": 3,
   "metadata": {},
   "outputs": [],
   "source": [
    "train_data=pd.read_csv(\"../datasets/assignment/train_set.csv\")\n",
    "test_data=pd.read_csv(\"../datasets/assignment/test_set.csv\")\n",
    "genre_data=pd.read_csv(\"../datasets/assignment/ml-20m/movies.csv\")"
   ]
  },
  {
   "cell_type": "code",
   "execution_count": 4,
   "metadata": {},
   "outputs": [],
   "source": [
    "def separate(x):\n",
    "    if x=='(no genres listed)':\n",
    "        return []\n",
    "    return x.split('|')"
   ]
  },
  {
   "cell_type": "code",
   "execution_count": 5,
   "metadata": {},
   "outputs": [],
   "source": [
    "def get_genre_val(indexer, x):\n",
    "    val_list=[]\n",
    "    for i, g in enumerate(indexer):\n",
    "        if g in x:\n",
    "            val_list.append(i+1)\n",
    "    if len(val_list)==0:\n",
    "        return [0]\n",
    "    else:\n",
    "        return val_list\n"
   ]
  },
  {
   "cell_type": "code",
   "execution_count": 7,
   "metadata": {},
   "outputs": [],
   "source": [
    "genre=set()\n",
    "for gl in genre_data['sep_gen']:\n",
    "    for g in gl:\n",
    "        genre.add(g)"
   ]
  },
  {
   "cell_type": "code",
   "execution_count": 8,
   "metadata": {},
   "outputs": [],
   "source": [
    "genre_data['sep_gen']=[separate(g) for g in genre_data['genres']]\n",
    "genre_data['gen_value_list']=[get_genre_val(genre, g) for g in genre_data['sep_gen']]"
   ]
  },
  {
   "cell_type": "code",
   "execution_count": 14,
   "metadata": {},
   "outputs": [],
   "source": [
    "genreTrainVector=pd.merge(train_data['movieId'],\n",
    "                     genre_data[['movieId', 'gen_value_list']],\n",
    "                     left_on='movieId', right_on='movieId',\n",
    "                     how='left'\n",
    "                    )"
   ]
  },
  {
   "cell_type": "code",
   "execution_count": 16,
   "metadata": {},
   "outputs": [],
   "source": [
    "genderTestVector=pd.merge(test_data['movieId'],\n",
    "                     genre_data[['movieId', 'gen_value_list']],\n",
    "                     left_on='movieId', right_on='movieId',\n",
    "                     how='left'\n",
    "                    )"
   ]
  },
  {
   "cell_type": "code",
   "execution_count": 15,
   "metadata": {},
   "outputs": [],
   "source": [
    "genre_train_input=genreTrainVector['gen_value_list']\n",
    "genre_train_input=tf.keras.preprocessing.sequence.pad_sequences(genre_train_input, padding='post')"
   ]
  },
  {
   "cell_type": "code",
   "execution_count": 18,
   "metadata": {},
   "outputs": [],
   "source": [
    "genre_test_input=genderTestVector['gen_value_list']\n",
    "genre_test_input=tf.keras.preprocessing.sequence.pad_sequences(genre_test_input, padding='post')"
   ]
  },
  {
   "cell_type": "code",
   "execution_count": 20,
   "metadata": {},
   "outputs": [],
   "source": [
    "user_train_input=train_data['userId'].values.tolist()\n",
    "user_test_input=test_data['userId'].values.tolist()\n",
    "\n",
    "item_train_input=train_data['movieId'].values.tolist()\n",
    "item_test_input=test_data['movieId'].values.tolist()\n",
    "\n",
    "label_train_input=train_data['preference'].values.tolist()\n",
    "label_test_input=test_data['preference'].values.tolist()"
   ]
  },
  {
   "cell_type": "code",
   "execution_count": 24,
   "metadata": {},
   "outputs": [],
   "source": [
    "with open(\"./pickle_dump/user_train_input.pickle\", \"wb\") as fw:\n",
    "    pickle.dump(user_train_input, fw)\n",
    "with open(\"./pickle_dump/user_test_input.pickle\", \"wb\") as fw:\n",
    "    pickle.dump(user_test_input, fw)\n",
    "with open(\"./pickle_dump/item_train_input.pickle\", \"wb\") as fw:\n",
    "    pickle.dump(item_train_input, fw)\n",
    "with open(\"./pickle_dump/item_test_input.pickle\", \"wb\") as fw:\n",
    "    pickle.dump(item_test_input, fw)\n",
    "with open(\"./pickle_dump/label_train_input.pickle\", \"wb\") as fw:\n",
    "    pickle.dump(label_train_input, fw)\n",
    "with open(\"./pickle_dump/label_test_input.pickle\", \"wb\") as fw:\n",
    "    pickle.dump(label_test_input, fw)\n",
    "with open(\"./pickle_dump/genre_train_input.pickle\", \"wb\") as fw:\n",
    "    pickle.dump(genre_train_input, fw)\n",
    "with open(\"./pickle_dump/genre_test_input.pickle\", \"wb\") as fw:\n",
    "    pickle.dump(genre_test_input, fw)\n",
    "    "
   ]
  },
  {
   "cell_type": "code",
   "execution_count": null,
   "metadata": {},
   "outputs": [],
   "source": []
  }
 ],
 "metadata": {
  "kernelspec": {
   "display_name": "Python 3",
   "language": "python",
   "name": "python3"
  },
  "language_info": {
   "codemirror_mode": {
    "name": "ipython",
    "version": 3
   },
   "file_extension": ".py",
   "mimetype": "text/x-python",
   "name": "python",
   "nbconvert_exporter": "python",
   "pygments_lexer": "ipython3",
   "version": "3.7.6"
  }
 },
 "nbformat": 4,
 "nbformat_minor": 4
}
